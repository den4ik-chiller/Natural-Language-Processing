{
  "cells": [
    {
      "cell_type": "markdown",
      "metadata": {
        "id": "3TUGDcO1bNx0"
      },
      "source": [
        "Задание 1. Изучите технологии attention и архитектуры нейронных сетей трансформеров."
      ]
    },
    {
      "cell_type": "markdown",
      "metadata": {
        "id": "5S3GFrWRxeGm"
      },
      "source": [
        "Attention\n",
        "\n",
        "**Определение**:\n",
        "Технология attention в нейронных сетях позволяет модели фокусироваться на определенных частях входных данных при выполнении задачи, вместо того чтобы обрабатывать всю информацию равномерно.\n",
        "\n",
        "**Принцип работы**:\n",
        "\n",
        "Входные данные и веса: Каждому элементу входных данных присваивается вес, который определяется важностью этого элемента для текущей задачи.\n",
        "\n",
        "Суммирование с весами: Входные данные умножаются на соответствующие веса и складываются, создавая взвешенную комбинацию. Это позволяет модели фокусироваться на наиболее важных элементах.\n",
        "\n",
        "Применение:\n",
        "\n",
        "Машинный перевод: Attention в трансформерах применяется для фокусировки на различных частях входного исходного текста при генерации перевода.\n",
        "\n",
        "Обработка изображений: В задачах обработки изображений attention используется для фокусировки на различных частях изображения в зависимости от контекста."
      ]
    },
    {
      "cell_type": "markdown",
      "metadata": {
        "id": "2SxiqbhhyMo7"
      },
      "source": [
        "**Архитектура Нейронных Сетей Трансформеров**\n",
        "\n",
        "Основные характеристики:\n",
        "\n",
        "**Self-Attention**:\n",
        "\n",
        "Трансформеры используют механизм само-внимания для обработки последовательностей. Каждый элемент последовательности может взаимодействовать с каждым другим с различной степенью важности.\n",
        "\n",
        "**Многозаголовочность**:\n",
        "\n",
        "Attention многозаголовочен, что позволяет модели фокусироваться на различных аспектах входных данных одновременно.\n",
        "\n",
        "Позиционная кодировка:\n",
        "Трансформеры не сохраняют порядок входных данных, поэтому используют позиционную кодировку для внедрения информации о позиции в последовательность.\n",
        "\n",
        "**Применение**:\n",
        "\n",
        "Natural Language Processing (NLP): Трансформеры успешно применяются в задачах обработки естественного языка, таких как машинный перевод, анализ тональности текста и вопросно-ответные системы.\n",
        "Обработка изображений: Трансформеры также показали выдающиеся результаты в обработке изображений, например, в задачах классификации и генерации изображений.\n",
        "Изучение этих технологий может открыть понимание современных методов обработки последовательностей и улучшить навыки в области глубокого обучения."
      ]
    },
    {
      "cell_type": "markdown",
      "metadata": {
        "id": "pTRxeMZCbQlh"
      },
      "source": [
        "Задание 2. Примените один из трансформеров, например BERT к задаче классификации отзывов клиентов. Сравните полученные результаты с классическими методами машинного обучения, с RNN. Сделайте выводы."
      ]
    },
    {
      "cell_type": "code",
      "execution_count": null,
      "metadata": {
        "id": "YYzcwZ1xbRDi"
      },
      "outputs": [],
      "source": [
        "import pandas as pd\n",
        "import numpy as np\n",
        "import torch\n",
        "import torch.nn as nn\n",
        "import json"
      ]
    },
    {
      "cell_type": "code",
      "execution_count": null,
      "metadata": {
        "id": "q15_uCX9bz_i",
        "colab": {
          "base_uri": "https://localhost:8080/"
        },
        "outputId": "0cf3c4bf-91e7-483b-ef33-7b46a1a6fbfb"
      },
      "outputs": [
        {
          "output_type": "stream",
          "name": "stdout",
          "text": [
            "Drive already mounted at /content/drive; to attempt to forcibly remount, call drive.mount(\"/content/drive\", force_remount=True).\n"
          ]
        }
      ],
      "source": [
        "from google.colab import drive\n",
        "drive.mount('/content/drive')"
      ]
    },
    {
      "cell_type": "code",
      "execution_count": null,
      "metadata": {
        "id": "Wj82CwE5biKR"
      },
      "outputs": [],
      "source": [
        "device = torch.device('cuda' if torch.cuda.is_available() else 'cpu')"
      ]
    },
    {
      "cell_type": "code",
      "execution_count": null,
      "metadata": {
        "id": "1PZYaEBlbvnU",
        "colab": {
          "base_uri": "https://localhost:8080/"
        },
        "outputId": "c6b18ff7-35ca-425f-9e4c-8c150857f73c"
      },
      "outputs": [
        {
          "output_type": "stream",
          "name": "stderr",
          "text": [
            "100%|██████████| 4/4 [00:13<00:00,  3.41s/it]\n"
          ]
        }
      ],
      "source": [
        "import zipfile\n",
        "from tqdm import tqdm\n",
        "zf = zipfile.ZipFile('/content/drive/MyDrive/Colab Notebooks/tink_rev.zip')\n",
        "for file in tqdm(zf.infolist()):\n",
        "  zf.extract(file)"
      ]
    },
    {
      "cell_type": "code",
      "execution_count": null,
      "metadata": {
        "id": "CUjtoErebxG4",
        "colab": {
          "base_uri": "https://localhost:8080/"
        },
        "outputId": "31b4724f-3314-43f8-804e-6f05f288cf8d"
      },
      "outputs": [
        {
          "output_type": "stream",
          "name": "stdout",
          "text": [
            "получить предложение банк заполнить анкета отправить получение карта позвонить центр обслуживание уточнить интересовать вопрос именно покупка безнал беспроцентный период доступно объяснить активировать карта пользоваться карта 3 месяц грейс 0 55 день безналичный расчёт помощь интернет-банка видеть сколько необходимо оплатить какой число переплатить 590 руб плата ежегодный обслуживание недавно увеличить лимит карта общий устраивать\n"
          ]
        }
      ],
      "source": [
        "with open('review_description_preprocess.json', 'r') as file:\n",
        "  review = json.load(file)\n",
        "    # review = torch.Tensor(review)\n",
        "print(review[-2])"
      ]
    },
    {
      "cell_type": "code",
      "execution_count": null,
      "metadata": {
        "id": "Pm69F6vmXyge",
        "colab": {
          "base_uri": "https://localhost:8080/"
        },
        "outputId": "ccf15bb5-ef4b-43ae-bb7d-b68fb89f50a3"
      },
      "outputs": [
        {
          "output_type": "stream",
          "name": "stdout",
          "text": [
            "434\n"
          ]
        }
      ],
      "source": [
        "print(len(review[-2]))"
      ]
    },
    {
      "cell_type": "code",
      "execution_count": null,
      "metadata": {
        "id": "SgodJFNKcCpw",
        "colab": {
          "base_uri": "https://localhost:8080/"
        },
        "outputId": "0d1b6865-d539-4503-91e8-655d6495f609"
      },
      "outputs": [
        {
          "output_type": "stream",
          "name": "stdout",
          "text": [
            "5\n"
          ]
        }
      ],
      "source": [
        "with open('review_rating.json', 'r') as file:\n",
        "    rating = json.load(file)\n",
        "print(rating[-2])"
      ]
    },
    {
      "cell_type": "code",
      "execution_count": null,
      "metadata": {
        "id": "3KqQRK85Kimv",
        "colab": {
          "base_uri": "https://localhost:8080/"
        },
        "outputId": "1043a396-cf0d-4f29-bc33-892dac97624f"
      },
      "outputs": [
        {
          "output_type": "execute_result",
          "data": {
            "text/plain": [
              "5    37418\n",
              "1    25566\n",
              "2     5360\n",
              "4     4040\n",
              "3     2582\n",
              "dtype: int64"
            ]
          },
          "metadata": {},
          "execution_count": 8
        }
      ],
      "source": [
        "pd.Series(rating).value_counts()"
      ]
    },
    {
      "cell_type": "code",
      "execution_count": null,
      "metadata": {
        "id": "-bFRUtbuLNVQ",
        "colab": {
          "base_uri": "https://localhost:8080/",
          "height": 242
        },
        "outputId": "4309ddb7-bc8b-472e-b755-800ed60b8b38"
      },
      "outputs": [
        {
          "output_type": "stream",
          "name": "stderr",
          "text": [
            "<ipython-input-9-0f51145b6893>:15: FutureWarning: The frame.append method is deprecated and will be removed from pandas in a future version. Use pandas.concat instead.\n",
            "  selected_reviews = selected_reviews.append(sampled_reviews, ignore_index=True)\n"
          ]
        },
        {
          "output_type": "display_data",
          "data": {
            "text/plain": [
              "                                              review rating\n",
              "0  отличный банк максимально мобильный очень лёгк...      5\n",
              "1  очень быстро качественно решить проблемма акци...      5\n",
              "2  банк очень хороший дебетовый карта тинькоф блё...      5\n",
              "3  выражать благодарность сотрудник банк идти вст...      5\n",
              "4  очень сильно нравиться работа поддержка тинько...      5"
            ],
            "text/html": [
              "\n",
              "  <div id=\"df-04600b0b-1695-4954-9efb-663cbe8a0dfc\" class=\"colab-df-container\">\n",
              "    <div>\n",
              "<style scoped>\n",
              "    .dataframe tbody tr th:only-of-type {\n",
              "        vertical-align: middle;\n",
              "    }\n",
              "\n",
              "    .dataframe tbody tr th {\n",
              "        vertical-align: top;\n",
              "    }\n",
              "\n",
              "    .dataframe thead th {\n",
              "        text-align: right;\n",
              "    }\n",
              "</style>\n",
              "<table border=\"1\" class=\"dataframe\">\n",
              "  <thead>\n",
              "    <tr style=\"text-align: right;\">\n",
              "      <th></th>\n",
              "      <th>review</th>\n",
              "      <th>rating</th>\n",
              "    </tr>\n",
              "  </thead>\n",
              "  <tbody>\n",
              "    <tr>\n",
              "      <th>0</th>\n",
              "      <td>отличный банк максимально мобильный очень лёгк...</td>\n",
              "      <td>5</td>\n",
              "    </tr>\n",
              "    <tr>\n",
              "      <th>1</th>\n",
              "      <td>очень быстро качественно решить проблемма акци...</td>\n",
              "      <td>5</td>\n",
              "    </tr>\n",
              "    <tr>\n",
              "      <th>2</th>\n",
              "      <td>банк очень хороший дебетовый карта тинькоф блё...</td>\n",
              "      <td>5</td>\n",
              "    </tr>\n",
              "    <tr>\n",
              "      <th>3</th>\n",
              "      <td>выражать благодарность сотрудник банк идти вст...</td>\n",
              "      <td>5</td>\n",
              "    </tr>\n",
              "    <tr>\n",
              "      <th>4</th>\n",
              "      <td>очень сильно нравиться работа поддержка тинько...</td>\n",
              "      <td>5</td>\n",
              "    </tr>\n",
              "  </tbody>\n",
              "</table>\n",
              "</div>\n",
              "    <div class=\"colab-df-buttons\">\n",
              "\n",
              "  <div class=\"colab-df-container\">\n",
              "    <button class=\"colab-df-convert\" onclick=\"convertToInteractive('df-04600b0b-1695-4954-9efb-663cbe8a0dfc')\"\n",
              "            title=\"Convert this dataframe to an interactive table.\"\n",
              "            style=\"display:none;\">\n",
              "\n",
              "  <svg xmlns=\"http://www.w3.org/2000/svg\" height=\"24px\" viewBox=\"0 -960 960 960\">\n",
              "    <path d=\"M120-120v-720h720v720H120Zm60-500h600v-160H180v160Zm220 220h160v-160H400v160Zm0 220h160v-160H400v160ZM180-400h160v-160H180v160Zm440 0h160v-160H620v160ZM180-180h160v-160H180v160Zm440 0h160v-160H620v160Z\"/>\n",
              "  </svg>\n",
              "    </button>\n",
              "\n",
              "  <style>\n",
              "    .colab-df-container {\n",
              "      display:flex;\n",
              "      gap: 12px;\n",
              "    }\n",
              "\n",
              "    .colab-df-convert {\n",
              "      background-color: #E8F0FE;\n",
              "      border: none;\n",
              "      border-radius: 50%;\n",
              "      cursor: pointer;\n",
              "      display: none;\n",
              "      fill: #1967D2;\n",
              "      height: 32px;\n",
              "      padding: 0 0 0 0;\n",
              "      width: 32px;\n",
              "    }\n",
              "\n",
              "    .colab-df-convert:hover {\n",
              "      background-color: #E2EBFA;\n",
              "      box-shadow: 0px 1px 2px rgba(60, 64, 67, 0.3), 0px 1px 3px 1px rgba(60, 64, 67, 0.15);\n",
              "      fill: #174EA6;\n",
              "    }\n",
              "\n",
              "    .colab-df-buttons div {\n",
              "      margin-bottom: 4px;\n",
              "    }\n",
              "\n",
              "    [theme=dark] .colab-df-convert {\n",
              "      background-color: #3B4455;\n",
              "      fill: #D2E3FC;\n",
              "    }\n",
              "\n",
              "    [theme=dark] .colab-df-convert:hover {\n",
              "      background-color: #434B5C;\n",
              "      box-shadow: 0px 1px 3px 1px rgba(0, 0, 0, 0.15);\n",
              "      filter: drop-shadow(0px 1px 2px rgba(0, 0, 0, 0.3));\n",
              "      fill: #FFFFFF;\n",
              "    }\n",
              "  </style>\n",
              "\n",
              "    <script>\n",
              "      const buttonEl =\n",
              "        document.querySelector('#df-04600b0b-1695-4954-9efb-663cbe8a0dfc button.colab-df-convert');\n",
              "      buttonEl.style.display =\n",
              "        google.colab.kernel.accessAllowed ? 'block' : 'none';\n",
              "\n",
              "      async function convertToInteractive(key) {\n",
              "        const element = document.querySelector('#df-04600b0b-1695-4954-9efb-663cbe8a0dfc');\n",
              "        const dataTable =\n",
              "          await google.colab.kernel.invokeFunction('convertToInteractive',\n",
              "                                                    [key], {});\n",
              "        if (!dataTable) return;\n",
              "\n",
              "        const docLinkHtml = 'Like what you see? Visit the ' +\n",
              "          '<a target=\"_blank\" href=https://colab.research.google.com/notebooks/data_table.ipynb>data table notebook</a>'\n",
              "          + ' to learn more about interactive tables.';\n",
              "        element.innerHTML = '';\n",
              "        dataTable['output_type'] = 'display_data';\n",
              "        await google.colab.output.renderOutput(dataTable, element);\n",
              "        const docLink = document.createElement('div');\n",
              "        docLink.innerHTML = docLinkHtml;\n",
              "        element.appendChild(docLink);\n",
              "      }\n",
              "    </script>\n",
              "  </div>\n",
              "\n",
              "\n",
              "<div id=\"df-1f0fc554-3cab-4328-8b0d-b553b91e8c10\">\n",
              "  <button class=\"colab-df-quickchart\" onclick=\"quickchart('df-1f0fc554-3cab-4328-8b0d-b553b91e8c10')\"\n",
              "            title=\"Suggest charts\"\n",
              "            style=\"display:none;\">\n",
              "\n",
              "<svg xmlns=\"http://www.w3.org/2000/svg\" height=\"24px\"viewBox=\"0 0 24 24\"\n",
              "     width=\"24px\">\n",
              "    <g>\n",
              "        <path d=\"M19 3H5c-1.1 0-2 .9-2 2v14c0 1.1.9 2 2 2h14c1.1 0 2-.9 2-2V5c0-1.1-.9-2-2-2zM9 17H7v-7h2v7zm4 0h-2V7h2v10zm4 0h-2v-4h2v4z\"/>\n",
              "    </g>\n",
              "</svg>\n",
              "  </button>\n",
              "\n",
              "<style>\n",
              "  .colab-df-quickchart {\n",
              "      --bg-color: #E8F0FE;\n",
              "      --fill-color: #1967D2;\n",
              "      --hover-bg-color: #E2EBFA;\n",
              "      --hover-fill-color: #174EA6;\n",
              "      --disabled-fill-color: #AAA;\n",
              "      --disabled-bg-color: #DDD;\n",
              "  }\n",
              "\n",
              "  [theme=dark] .colab-df-quickchart {\n",
              "      --bg-color: #3B4455;\n",
              "      --fill-color: #D2E3FC;\n",
              "      --hover-bg-color: #434B5C;\n",
              "      --hover-fill-color: #FFFFFF;\n",
              "      --disabled-bg-color: #3B4455;\n",
              "      --disabled-fill-color: #666;\n",
              "  }\n",
              "\n",
              "  .colab-df-quickchart {\n",
              "    background-color: var(--bg-color);\n",
              "    border: none;\n",
              "    border-radius: 50%;\n",
              "    cursor: pointer;\n",
              "    display: none;\n",
              "    fill: var(--fill-color);\n",
              "    height: 32px;\n",
              "    padding: 0;\n",
              "    width: 32px;\n",
              "  }\n",
              "\n",
              "  .colab-df-quickchart:hover {\n",
              "    background-color: var(--hover-bg-color);\n",
              "    box-shadow: 0 1px 2px rgba(60, 64, 67, 0.3), 0 1px 3px 1px rgba(60, 64, 67, 0.15);\n",
              "    fill: var(--button-hover-fill-color);\n",
              "  }\n",
              "\n",
              "  .colab-df-quickchart-complete:disabled,\n",
              "  .colab-df-quickchart-complete:disabled:hover {\n",
              "    background-color: var(--disabled-bg-color);\n",
              "    fill: var(--disabled-fill-color);\n",
              "    box-shadow: none;\n",
              "  }\n",
              "\n",
              "  .colab-df-spinner {\n",
              "    border: 2px solid var(--fill-color);\n",
              "    border-color: transparent;\n",
              "    border-bottom-color: var(--fill-color);\n",
              "    animation:\n",
              "      spin 1s steps(1) infinite;\n",
              "  }\n",
              "\n",
              "  @keyframes spin {\n",
              "    0% {\n",
              "      border-color: transparent;\n",
              "      border-bottom-color: var(--fill-color);\n",
              "      border-left-color: var(--fill-color);\n",
              "    }\n",
              "    20% {\n",
              "      border-color: transparent;\n",
              "      border-left-color: var(--fill-color);\n",
              "      border-top-color: var(--fill-color);\n",
              "    }\n",
              "    30% {\n",
              "      border-color: transparent;\n",
              "      border-left-color: var(--fill-color);\n",
              "      border-top-color: var(--fill-color);\n",
              "      border-right-color: var(--fill-color);\n",
              "    }\n",
              "    40% {\n",
              "      border-color: transparent;\n",
              "      border-right-color: var(--fill-color);\n",
              "      border-top-color: var(--fill-color);\n",
              "    }\n",
              "    60% {\n",
              "      border-color: transparent;\n",
              "      border-right-color: var(--fill-color);\n",
              "    }\n",
              "    80% {\n",
              "      border-color: transparent;\n",
              "      border-right-color: var(--fill-color);\n",
              "      border-bottom-color: var(--fill-color);\n",
              "    }\n",
              "    90% {\n",
              "      border-color: transparent;\n",
              "      border-bottom-color: var(--fill-color);\n",
              "    }\n",
              "  }\n",
              "</style>\n",
              "\n",
              "  <script>\n",
              "    async function quickchart(key) {\n",
              "      const quickchartButtonEl =\n",
              "        document.querySelector('#' + key + ' button');\n",
              "      quickchartButtonEl.disabled = true;  // To prevent multiple clicks.\n",
              "      quickchartButtonEl.classList.add('colab-df-spinner');\n",
              "      try {\n",
              "        const charts = await google.colab.kernel.invokeFunction(\n",
              "            'suggestCharts', [key], {});\n",
              "      } catch (error) {\n",
              "        console.error('Error during call to suggestCharts:', error);\n",
              "      }\n",
              "      quickchartButtonEl.classList.remove('colab-df-spinner');\n",
              "      quickchartButtonEl.classList.add('colab-df-quickchart-complete');\n",
              "    }\n",
              "    (() => {\n",
              "      let quickchartButtonEl =\n",
              "        document.querySelector('#df-1f0fc554-3cab-4328-8b0d-b553b91e8c10 button');\n",
              "      quickchartButtonEl.style.display =\n",
              "        google.colab.kernel.accessAllowed ? 'block' : 'none';\n",
              "    })();\n",
              "  </script>\n",
              "</div>\n",
              "    </div>\n",
              "  </div>\n"
            ]
          },
          "metadata": {}
        }
      ],
      "source": [
        "import pandas as pd\n",
        "\n",
        "df = pd.DataFrame({'review': review, 'rating': rating})\n",
        "\n",
        "selected_reviews = pd.DataFrame(columns=['review', 'rating'])\n",
        "\n",
        "for rating_value in df['rating'].unique():\n",
        "    sampled_reviews = df[df['rating'] == rating_value].sample(n=750, random_state=15)\n",
        "\n",
        "    selected_reviews = selected_reviews.append(sampled_reviews, ignore_index=True)\n",
        "\n",
        "display(selected_reviews.head())\n",
        "\n",
        "review = selected_reviews['review'].tolist()\n",
        "rating = selected_reviews['rating'].tolist()"
      ]
    },
    {
      "cell_type": "code",
      "source": [
        "review_lengths = [len(text.split()) for text in review]\n",
        "\n",
        "average_length = sum(review_lengths) / len(review_lengths)\n",
        "\n",
        "print(\"Средняя длина отзыва:\", average_length)"
      ],
      "metadata": {
        "id": "VnlIzqhRFnun",
        "colab": {
          "base_uri": "https://localhost:8080/"
        },
        "outputId": "76b1189a-9911-445d-860b-346d96833266"
      },
      "execution_count": null,
      "outputs": [
        {
          "output_type": "stream",
          "name": "stdout",
          "text": [
            "Средняя длина отзыва: 129.0744\n"
          ]
        }
      ]
    },
    {
      "cell_type": "code",
      "source": [
        "import matplotlib.pyplot as plt\n",
        "import seaborn as sns\n",
        "\n",
        "plt.figure(figsize=(10, 6))\n",
        "sns.histplot(review_lengths, bins=50, kde=True, color='skyblue')\n",
        "plt.title('Распределение длины отзывов')\n",
        "plt.xlabel('Длина отзыва (в словах)')\n",
        "plt.ylabel('Количество отзывов')\n",
        "plt.show()\n"
      ],
      "metadata": {
        "id": "2HzMI5slFv65",
        "colab": {
          "base_uri": "https://localhost:8080/",
          "height": 564
        },
        "outputId": "86ee7871-5caa-4b7b-f508-68933c770c23"
      },
      "execution_count": null,
      "outputs": [
        {
          "output_type": "display_data",
          "data": {
            "text/plain": [
              "<Figure size 1000x600 with 1 Axes>"
            ],
            "image/png": "[encoded data removed]"
          },
          "metadata": {}
        }
      ]
    },
    {
      "cell_type": "code",
      "execution_count": null,
      "metadata": {
        "id": "AiBvurADLb3T",
        "colab": {
          "base_uri": "https://localhost:8080/",
          "height": 406
        },
        "outputId": "4461db5f-657a-4c6d-bfc8-7fbc94089ecc"
      },
      "outputs": [
        {
          "output_type": "display_data",
          "data": {
            "text/plain": [
              "<Figure size 640x480 with 1 Axes>"
            ],
            "image/png": "[encoded data removed]"
          },
          "metadata": {}
        }
      ],
      "source": [
        "import matplotlib.pyplot as plt\n",
        "pd.Series(rating).value_counts().plot(kind='pie',autopct='%.2f%%')\n",
        "plt.ylabel('Rating');"
      ]
    },
    {
      "cell_type": "code",
      "execution_count": null,
      "metadata": {
        "id": "Jm86YznXcefy"
      },
      "outputs": [],
      "source": [
        "from sklearn.model_selection import train_test_split\n",
        "from sklearn.metrics import classification_report\n",
        "from transformers import BertTokenizer, BertForSequenceClassification\n",
        "from torch.utils.data import DataLoader, TensorDataset"
      ]
    },
    {
      "cell_type": "code",
      "execution_count": null,
      "metadata": {
        "id": "sOJR1_c1dAHi",
        "colab": {
          "base_uri": "https://localhost:8080/"
        },
        "outputId": "6c2bd445-7664-4146-e070-6e7cf25aab9d"
      },
      "outputs": [
        {
          "output_type": "stream",
          "name": "stderr",
          "text": [
            "Some weights of BertForSequenceClassification were not initialized from the model checkpoint at cointegrated/rubert-tiny and are newly initialized: ['classifier.weight', 'classifier.bias']\n",
            "You should probably TRAIN this model on a down-stream task to be able to use it for predictions and inference.\n"
          ]
        }
      ],
      "source": [
        "train_texts, test_texts, train_labels, test_labels = train_test_split(review, rating, test_size=0.2, random_state=42)\n",
        "\n",
        "tokenizer = BertTokenizer.from_pretrained('cointegrated/rubert-tiny', do_lower_case=False)\n",
        "model = BertForSequenceClassification.from_pretrained('cointegrated/rubert-tiny', num_labels=5)"
      ]
    },
    {
      "cell_type": "code",
      "execution_count": null,
      "metadata": {
        "id": "q0a7odtjYOM1",
        "colab": {
          "base_uri": "https://localhost:8080/"
        },
        "outputId": "e294d562-2eca-429d-aa95-b66d31710e0d"
      },
      "outputs": [
        {
          "output_type": "stream",
          "name": "stdout",
          "text": [
            "Selected device: cuda\n"
          ]
        }
      ],
      "source": [
        "device = torch.device('cuda' if torch.cuda.is_available() else 'cpu')\n",
        "print('Selected device:', device)"
      ]
    },
    {
      "cell_type": "code",
      "execution_count": null,
      "metadata": {
        "id": "lpm1zztC8a4b"
      },
      "outputs": [],
      "source": [
        "model = model.to(device)"
      ]
    },
    {
      "cell_type": "code",
      "execution_count": null,
      "metadata": {
        "id": "vCpvxwbNZXlS",
        "colab": {
          "base_uri": "https://localhost:8080/"
        },
        "outputId": "aa034e13-bc14-4d00-db74-fa983f637321"
      },
      "outputs": [
        {
          "output_type": "execute_result",
          "data": {
            "text/plain": [
              "BertForSequenceClassification(\n",
              "  (bert): BertModel(\n",
              "    (embeddings): BertEmbeddings(\n",
              "      (word_embeddings): Embedding(29564, 312, padding_idx=0)\n",
              "      (position_embeddings): Embedding(512, 312)\n",
              "      (token_type_embeddings): Embedding(2, 312)\n",
              "      (LayerNorm): LayerNorm((312,), eps=1e-12, elementwise_affine=True)\n",
              "      (dropout): Dropout(p=0.1, inplace=False)\n",
              "    )\n",
              "    (encoder): BertEncoder(\n",
              "      (layer): ModuleList(\n",
              "        (0-2): 3 x BertLayer(\n",
              "          (attention): BertAttention(\n",
              "            (self): BertSelfAttention(\n",
              "              (query): Linear(in_features=312, out_features=312, bias=True)\n",
              "              (key): Linear(in_features=312, out_features=312, bias=True)\n",
              "              (value): Linear(in_features=312, out_features=312, bias=True)\n",
              "              (dropout): Dropout(p=0.1, inplace=False)\n",
              "            )\n",
              "            (output): BertSelfOutput(\n",
              "              (dense): Linear(in_features=312, out_features=312, bias=True)\n",
              "              (LayerNorm): LayerNorm((312,), eps=1e-12, elementwise_affine=True)\n",
              "              (dropout): Dropout(p=0.1, inplace=False)\n",
              "            )\n",
              "          )\n",
              "          (intermediate): BertIntermediate(\n",
              "            (dense): Linear(in_features=312, out_features=600, bias=True)\n",
              "            (intermediate_act_fn): GELUActivation()\n",
              "          )\n",
              "          (output): BertOutput(\n",
              "            (dense): Linear(in_features=600, out_features=312, bias=True)\n",
              "            (LayerNorm): LayerNorm((312,), eps=1e-12, elementwise_affine=True)\n",
              "            (dropout): Dropout(p=0.1, inplace=False)\n",
              "          )\n",
              "        )\n",
              "      )\n",
              "    )\n",
              "    (pooler): BertPooler(\n",
              "      (dense): Linear(in_features=312, out_features=312, bias=True)\n",
              "      (activation): Tanh()\n",
              "    )\n",
              "  )\n",
              "  (dropout): Dropout(p=0.1, inplace=False)\n",
              "  (classifier): Linear(in_features=312, out_features=5, bias=True)\n",
              ")"
            ]
          },
          "metadata": {},
          "execution_count": 18
        }
      ],
      "source": [
        "model"
      ]
    },
    {
      "cell_type": "code",
      "execution_count": null,
      "metadata": {
        "id": "ph-suUYEdMm1"
      },
      "outputs": [],
      "source": [
        "train_encodings = tokenizer(train_texts, truncation=True, padding=True, max_length=200, return_tensors='pt')\n",
        "test_encodings = tokenizer(test_texts, truncation=True, padding=True, max_length=200, return_tensors='pt')\n",
        "\n",
        "train_dataset = TensorDataset(train_encodings['input_ids'], train_encodings['attention_mask'], torch.tensor(train_labels))\n",
        "test_dataset = TensorDataset(test_encodings['input_ids'], test_encodings['attention_mask'], torch.tensor(test_labels))"
      ]
    },
    {
      "cell_type": "code",
      "execution_count": null,
      "metadata": {
        "id": "J1nSv0Y9dWSB"
      },
      "outputs": [],
      "source": [
        "train_loader = DataLoader(train_dataset, batch_size=256, shuffle=True)\n",
        "test_loader = DataLoader(test_dataset, batch_size=256, shuffle=False)\n",
        "\n",
        "optimizer = torch.optim.Adam(model.parameters(), lr=0.00005)"
      ]
    },
    {
      "cell_type": "code",
      "execution_count": null,
      "metadata": {
        "id": "hDC52MpRdZVa"
      },
      "outputs": [],
      "source": [
        "def train(model, train_dl, optimizer):\n",
        "    model.train()\n",
        "\n",
        "    total_loss = 0.0\n",
        "    total_samples = 0.0\n",
        "    correct_samples = 0.0\n",
        "\n",
        "    for input_ids, attention_mask, labels in train_dl:\n",
        "        input_ids, attention_mask, labels = input_ids.to(device), attention_mask.to(device), labels.to(device)\n",
        "\n",
        "        labels -= 1\n",
        "        outputs = model(input_ids, attention_mask=attention_mask, labels=labels)\n",
        "        loss = outputs.loss\n",
        "\n",
        "        optimizer.zero_grad()\n",
        "        loss.backward()\n",
        "        optimizer.step()\n",
        "\n",
        "        total_loss += loss\n",
        "\n",
        "        total_samples += labels.shape[0]\n",
        "\n",
        "        _, prediction_indices = torch.max(outputs.logits, 1)\n",
        "        correct_samples += torch.sum(prediction_indices==labels)\n",
        "\n",
        "    train_accuracy = float(correct_samples) / total_samples\n",
        "\n",
        "    return total_loss, train_accuracy"
      ]
    },
    {
      "cell_type": "code",
      "execution_count": null,
      "metadata": {
        "id": "s8ZHTqfPdpam"
      },
      "outputs": [],
      "source": [
        "def test(model, test_dl):\n",
        "    model.eval()\n",
        "\n",
        "    total_loss = 0.0\n",
        "    total_samples = 0.0\n",
        "    correct_samples = 0.0\n",
        "\n",
        "    with torch.no_grad():\n",
        "        for input_ids, attention_mask, labels in test_dl:\n",
        "            input_ids, attention_mask, labels = input_ids.to(device), attention_mask.to(device), labels.to(device)\n",
        "\n",
        "            labels -= 1\n",
        "            outputs = model(input_ids, attention_mask=attention_mask, labels=labels)\n",
        "            loss = outputs.loss\n",
        "\n",
        "            total_loss += loss\n",
        "\n",
        "            total_samples += labels.shape[0]\n",
        "            _, predictions_indices = torch.max(outputs.logits, 1)\n",
        "            correct_samples += torch.sum(predictions_indices==labels)\n",
        "\n",
        "    test_accuracy = correct_samples / total_samples\n",
        "\n",
        "    return total_loss, test_accuracy"
      ]
    },
    {
      "cell_type": "code",
      "source": [
        "# for param in model.bert.parameters():\n",
        "#     param.requires_grad = False\n",
        "\n",
        "# for param in model.classifier.parameters():\n",
        "#     param.requires_grad = True"
      ],
      "metadata": {
        "id": "FvcH17jT_8YR"
      },
      "execution_count": null,
      "outputs": []
    },
    {
      "cell_type": "code",
      "execution_count": null,
      "metadata": {
        "id": "48iMnGild5cF",
        "colab": {
          "base_uri": "https://localhost:8080/"
        },
        "outputId": "8281b1c9-e5ee-4e7e-f9ed-30a2edb98198"
      },
      "outputs": [
        {
          "output_type": "stream",
          "name": "stdout",
          "text": [
            "epoch [1]: Loss: [19.1827], Train_acc: [0.2440], Loss: [4.7396], Test_acc: [0.3027]\n",
            "epoch [2]: Loss: [18.6499], Train_acc: [0.3377], Loss: [4.5344], Test_acc: [0.3373]\n",
            "epoch [3]: Loss: [17.6665], Train_acc: [0.3413], Loss: [4.2687], Test_acc: [0.3520]\n",
            "epoch [4]: Loss: [16.7489], Train_acc: [0.3677], Loss: [4.1385], Test_acc: [0.3733]\n",
            "epoch [5]: Loss: [16.1153], Train_acc: [0.3880], Loss: [4.0161], Test_acc: [0.3947]\n",
            "epoch [6]: Loss: [15.4724], Train_acc: [0.4083], Loss: [3.9624], Test_acc: [0.4027]\n",
            "epoch [7]: Loss: [14.9844], Train_acc: [0.4240], Loss: [3.9470], Test_acc: [0.4040]\n",
            "epoch [8]: Loss: [14.6093], Train_acc: [0.4513], Loss: [3.8927], Test_acc: [0.3987]\n",
            "epoch [9]: Loss: [14.1719], Train_acc: [0.4677], Loss: [3.8703], Test_acc: [0.4267]\n",
            "epoch [10]: Loss: [13.7443], Train_acc: [0.4863], Loss: [3.8700], Test_acc: [0.4013]\n",
            "epoch [11]: Loss: [13.3728], Train_acc: [0.5073], Loss: [3.8552], Test_acc: [0.4267]\n",
            "epoch [12]: Loss: [12.9013], Train_acc: [0.5270], Loss: [3.8592], Test_acc: [0.4373]\n",
            "epoch [13]: Loss: [12.5101], Train_acc: [0.5480], Loss: [3.8803], Test_acc: [0.4413]\n",
            "epoch [14]: Loss: [12.3248], Train_acc: [0.5517], Loss: [3.9332], Test_acc: [0.4200]\n",
            "epoch [15]: Loss: [11.7315], Train_acc: [0.5933], Loss: [3.9190], Test_acc: [0.4347]\n",
            "epoch [16]: Loss: [11.4624], Train_acc: [0.5920], Loss: [3.9429], Test_acc: [0.4373]\n",
            "epoch [17]: Loss: [10.8715], Train_acc: [0.6173], Loss: [4.0009], Test_acc: [0.4373]\n",
            "epoch [18]: Loss: [10.3973], Train_acc: [0.6383], Loss: [4.1157], Test_acc: [0.4400]\n",
            "epoch [19]: Loss: [10.0066], Train_acc: [0.6670], Loss: [4.1177], Test_acc: [0.4480]\n",
            "epoch [20]: Loss: [9.5292], Train_acc: [0.6843], Loss: [4.1646], Test_acc: [0.4320]\n",
            "epoch [21]: Loss: [9.0182], Train_acc: [0.7027], Loss: [4.2364], Test_acc: [0.4467]\n",
            "epoch [22]: Loss: [8.4749], Train_acc: [0.7270], Loss: [4.5092], Test_acc: [0.4373]\n",
            "epoch [23]: Loss: [8.1269], Train_acc: [0.7443], Loss: [4.4396], Test_acc: [0.4467]\n",
            "epoch [24]: Loss: [7.5053], Train_acc: [0.7703], Loss: [4.4884], Test_acc: [0.4693]\n",
            "epoch [25]: Loss: [6.9459], Train_acc: [0.7923], Loss: [4.6040], Test_acc: [0.4667]\n"
          ]
        }
      ],
      "source": [
        "losses_train, losses_test = [], []\n",
        "for epoch in range(25):\n",
        "    total_loss_train, train_accuracy = train(model, train_loader, optimizer)\n",
        "    losses_train.append(total_loss_train.item())\n",
        "    total_loss_test, test_accuracy = test(model, test_loader)\n",
        "    losses_test.append(total_loss_test.item())\n",
        "\n",
        "    print(f\"epoch [{epoch+1}]: Loss: [{total_loss_train:.4f}], Train_acc: [{train_accuracy:.4f}],\"\n",
        "                            f\" Loss: [{total_loss_test:.4f}], Test_acc: [{test_accuracy:.4f}]\")"
      ]
    },
    {
      "cell_type": "code",
      "execution_count": null,
      "metadata": {
        "id": "1jx7abO_fEYS",
        "colab": {
          "base_uri": "https://localhost:8080/",
          "height": 449
        },
        "outputId": "37ec1806-2d86-4c20-ad8d-ac898b4bda28"
      },
      "outputs": [
        {
          "output_type": "display_data",
          "data": {
            "text/plain": [
              "<Figure size 640x480 with 1 Axes>"
            ],
            "image/png": "[encoded data removed]"
          },
          "metadata": {}
        }
      ],
      "source": [
        "import matplotlib.pyplot as plt\n",
        "\n",
        "plt.plot(losses_train, label='На обучении', color='blue')\n",
        "plt.plot(losses_test, label='На тесте', color='red')\n",
        "plt.legend()\n",
        "plt.xlabel('Эпохи')\n",
        "plt.ylabel('Значение функции потерь')\n",
        "plt.show()"
      ]
    },
    {
      "cell_type": "code",
      "execution_count": null,
      "metadata": {
        "id": "T60a0UJiiUWp",
        "colab": {
          "base_uri": "https://localhost:8080/"
        },
        "outputId": "d278e7fb-46d2-40e6-ed45-543475eae649"
      },
      "outputs": [
        {
          "output_type": "stream",
          "name": "stdout",
          "text": [
            "Requirement already satisfied: pymorphy2 in /usr/local/lib/python3.10/dist-packages (0.9.1)\n",
            "Requirement already satisfied: dawg-python>=0.7.1 in /usr/local/lib/python3.10/dist-packages (from pymorphy2) (0.7.2)\n",
            "Requirement already satisfied: pymorphy2-dicts-ru<3.0,>=2.4 in /usr/local/lib/python3.10/dist-packages (from pymorphy2) (2.4.417127.4579844)\n",
            "Requirement already satisfied: docopt>=0.6 in /usr/local/lib/python3.10/dist-packages (from pymorphy2) (0.6.2)\n"
          ]
        }
      ],
      "source": [
        "!pip install pymorphy2"
      ]
    },
    {
      "cell_type": "code",
      "source": [
        "import torch\n",
        "import re\n",
        "import string\n",
        "import nltk\n",
        "nltk.download('punkt')\n",
        "from nltk.tokenize import word_tokenize\n",
        "from nltk.stem import SnowballStemmer\n",
        "import pymorphy2"
      ],
      "metadata": {
        "id": "EWuGJAVYIYCI",
        "colab": {
          "base_uri": "https://localhost:8080/"
        },
        "outputId": "129b9104-5235-4af0-f901-2730cb2a92ec"
      },
      "execution_count": null,
      "outputs": [
        {
          "output_type": "stream",
          "name": "stderr",
          "text": [
            "[nltk_data] Downloading package punkt to /root/nltk_data...\n",
            "[nltk_data]   Package punkt is already up-to-date!\n"
          ]
        }
      ]
    },
    {
      "cell_type": "code",
      "execution_count": null,
      "metadata": {
        "id": "igu47JYEC0Wn",
        "colab": {
          "base_uri": "https://localhost:8080/"
        },
        "outputId": "36946c62-874f-4f3e-bcea-ac1285b647e8"
      },
      "outputs": [
        {
          "output_type": "stream",
          "name": "stdout",
          "text": [
            "\n",
            "Original Review:\n",
            "Банк просто отличный! Обслуживание на высшем уровне!\n",
            "Preprocessed, Lemmatized, and Stemmed Review:\n",
            "банк просто отличный обслуживание на высокий уровень\n",
            "Predicted Rating: 5\n"
          ]
        }
      ],
      "source": [
        "# Выберите язык для SnowballStemmer (русский)\n",
        "stemmer = SnowballStemmer(\"russian\")\n",
        "\n",
        "# Инициализация pymorphy2\n",
        "morph = pymorphy2.MorphAnalyzer()\n",
        "\n",
        "# Функция для токенизации, препроцессинга, лемматизации и стемминга текста\n",
        "def preprocess_and_stem(text):\n",
        "    text = text.lower()\n",
        "    text = re.sub(r'[a-zA-Z]', '', text)\n",
        "    tokens = nltk.word_tokenize(text)\n",
        "    tokens = [morph.parse(word)[0].normal_form for word in tokens if word not in string.punctuation]\n",
        "    processed_text = ' '.join(tokens)\n",
        "\n",
        "    return processed_text\n",
        "\n",
        "# Пример текста\n",
        "positive_review = \"Банк просто отличный! Обслуживание на высшем уровне!\"\n",
        "\n",
        "# Препроцессинг, лемматизация и стемминг текста\n",
        "preprocessed_review = preprocess_and_stem(positive_review)\n",
        "\n",
        "# Токенизация\n",
        "tokenized_positive_review = tokenizer(preprocessed_review, truncation=True, padding=True, max_length=250, return_tensors='pt')\n",
        "\n",
        "model.eval()\n",
        "with torch.no_grad():\n",
        "    inputs = {'input_ids': tokenized_positive_review['input_ids'], 'attention_mask': tokenized_positive_review['attention_mask']}\n",
        "    inputs = {key: value.to(device) for key, value in inputs.items()}\n",
        "    outputs = model(**inputs)\n",
        "\n",
        "predicted_rating = torch.argmax(outputs.logits, dim=1).item() + 1\n",
        "\n",
        "print(f\"\\nOriginal Review:\\n{positive_review}\")\n",
        "print(f\"Preprocessed, Lemmatized, and Stemmed Review:\\n{preprocessed_review}\")\n",
        "print(f\"Predicted Rating: {predicted_rating}\")\n"
      ]
    },
    {
      "cell_type": "code",
      "execution_count": null,
      "metadata": {
        "id": "ZiEzjXI5geMI",
        "colab": {
          "base_uri": "https://localhost:8080/"
        },
        "outputId": "f438a8ae-68e6-4f80-8b60-f9d9f14f2a31"
      },
      "outputs": [
        {
          "output_type": "stream",
          "name": "stdout",
          "text": [
            "\n",
            "Original Review:\n",
            "Банк не предоставил возможность отсрочки. Обманул. Не рекомендую никому. Не понравилось совсем, ничем помочь не смогли\n",
            "Preprocessed and Stemmed Review:\n",
            "банк не предоставить возможность отсрочка обмануть не рекомендовать никто не понравиться совсем ничто помочь не смочь\n",
            "Predicted Rating: 1\n"
          ]
        }
      ],
      "source": [
        "\n",
        "# Инициализация pymorphy2\n",
        "morph = pymorphy2.MorphAnalyzer()\n",
        "\n",
        "# Функция для токенизации, препроцессинга и стемминга текста\n",
        "def preprocess_and_stem(text):\n",
        "    text = text.lower()\n",
        "    text = re.sub(r'[a-zA-Z]', '', text)\n",
        "    tokens = nltk.word_tokenize(text)\n",
        "    tokens = [morph.parse(word)[0].normal_form for word in tokens if word not in string.punctuation]\n",
        "    processed_text = ' '.join(tokens)\n",
        "\n",
        "    return processed_text\n",
        "\n",
        "# Пример текста\n",
        "negative_review = \"Банк не предоставил возможность отсрочки. Обманул. Не рекомендую никому. Не понравилось совсем, ничем помочь не смогли\"\n",
        "\n",
        "# Препроцессинг и стемминг текста\n",
        "preprocessed_negative_review = preprocess_and_stem(negative_review)\n",
        "\n",
        "# Токенизация\n",
        "tokenized_negative_review = tokenizer(preprocessed_negative_review, truncation=True, padding=True, max_length=250, return_tensors='pt')\n",
        "\n",
        "model.eval()\n",
        "with torch.no_grad():\n",
        "    inputs = {'input_ids': tokenized_negative_review['input_ids'], 'attention_mask': tokenized_negative_review['attention_mask']}\n",
        "    inputs = {key: value.to(device) for key, value in inputs.items()}\n",
        "    outputs = model(**inputs)\n",
        "\n",
        "predicted_rating = torch.argmax(outputs.logits, dim=1).item() + 1\n",
        "\n",
        "print(f\"\\nOriginal Review:\\n{negative_review}\")\n",
        "print(f\"Preprocessed and Stemmed Review:\\n{preprocessed_negative_review}\")\n",
        "print(f\"Predicted Rating: {predicted_rating}\")"
      ]
    },
    {
      "cell_type": "markdown",
      "metadata": {
        "id": "WXhmBKlFTg8q"
      },
      "source": [
        "Задание 3. Примените один из трансформеров, например BERT, к задаче генерации англоязычного и русскоязычного текстов. Сравните результаты с LSTM. Сделайте выводы."
      ]
    },
    {
      "cell_type": "code",
      "execution_count": null,
      "metadata": {
        "id": "o5d8sgpqoSLB"
      },
      "outputs": [],
      "source": [
        "from transformers import GPT2LMHeadModel, GPT2Tokenizer\n",
        "\n",
        "model_name = 'gpt2'\n",
        "model = GPT2LMHeadModel.from_pretrained(model_name)\n",
        "tokenizer = GPT2Tokenizer.from_pretrained(model_name)"
      ]
    },
    {
      "cell_type": "code",
      "execution_count": null,
      "metadata": {
        "id": "OxO65Flu9MWB",
        "colab": {
          "base_uri": "https://localhost:8080/"
        },
        "outputId": "52857198-89f2-4452-aae9-5911c99df753"
      },
      "outputs": [
        {
          "output_type": "stream",
          "name": "stderr",
          "text": [
            "/usr/local/lib/python3.10/dist-packages/transformers/generation/configuration_utils.py:381: UserWarning: `do_sample` is set to `False`. However, `temperature` is set to `0.7` -- this flag is only used in sample-based generation modes. You should set `do_sample=True` or unset `temperature`.\n",
            "  warnings.warn(\n",
            "/usr/local/lib/python3.10/dist-packages/transformers/generation/configuration_utils.py:386: UserWarning: `do_sample` is set to `False`. However, `top_p` is set to `0.95` -- this flag is only used in sample-based generation modes. You should set `do_sample=True` or unset `top_p`.\n",
            "  warnings.warn(\n",
            "Setting `pad_token_id` to `eos_token_id`:50256 for open-end generation.\n"
          ]
        },
        {
          "output_type": "stream",
          "name": "stdout",
          "text": [
            "Generated Text:\n",
            "The day before yesterday's meeting, he said: \"I'm not going to go into detail about what I'm doing, but I think it's important for us to be able to talk about it.\n",
            "\n",
            "\"We've got a lot of work to do, and we're looking forward to it.\"\n"
          ]
        }
      ],
      "source": [
        "# Генерация текста\n",
        "input_text = \"The day before yesterday\"\n",
        "input_ids = tokenizer.encode(input_text, return_tensors='pt')\n",
        "attention_mask = torch.ones(input_ids.shape)\n",
        "\n",
        "output = model.generate(input_ids, max_length=100, attention_mask=attention_mask, num_beams=5, no_repeat_ngram_size=2, top_k=50, top_p=0.95, temperature=0.7)\n",
        "\n",
        "generated_text = tokenizer.decode(output[0], skip_special_tokens=True)\n",
        "print(\"Generated Text:\")\n",
        "print(generated_text)"
      ]
    },
    {
      "cell_type": "code",
      "execution_count": null,
      "metadata": {
        "id": "MhF0AOwG9eGM"
      },
      "outputs": [],
      "source": [
        "model_name = 'sberbank-ai/rugpt3small_based_on_gpt2'\n",
        "model = GPT2LMHeadModel.from_pretrained(model_name)\n",
        "tokenizer = GPT2Tokenizer.from_pretrained(model_name)"
      ]
    },
    {
      "cell_type": "code",
      "execution_count": null,
      "metadata": {
        "id": "PJxqK0kR_6V7",
        "colab": {
          "base_uri": "https://localhost:8080/"
        },
        "outputId": "8ff9a07c-0e30-459e-8744-ddbb2871589b"
      },
      "outputs": [
        {
          "output_type": "stream",
          "name": "stderr",
          "text": [
            "The attention mask and the pad token id were not set. As a consequence, you may observe unexpected behavior. Please pass your input's `attention_mask` to obtain reliable results.\n",
            "Setting `pad_token_id` to `eos_token_id`:50256 for open-end generation.\n"
          ]
        },
        {
          "output_type": "stream",
          "name": "stdout",
          "text": [
            "Сгенерированный текст:\n",
            "Я попытался обучить модель классификации отзывов.\n",
            "\n",
            "— Да, — сказал я, и в его глазах промелькнуло что-то такое, что заставило меня насторожиться. Я не мог понять, о чем он говорит, но, судя по тому, как он смотрел на меня, я понял: он хочет, чтобы я рассказал ему о своих впечатлениях от увиденного, а не о том, чего я не видел. Он не был уверен, стоит ли мне рассказывать ему об этом. \n"
          ]
        }
      ],
      "source": [
        "input_text = \"Я попытался обучить модель классификации отзывов\"\n",
        "input_ids = tokenizer.encode(input_text, return_tensors='pt')\n",
        "\n",
        "output = model.generate(input_ids, max_length=100, num_beams=5, no_repeat_ngram_size=2, top_k=50, top_p=0.95, temperature=0.7)\n",
        "\n",
        "generated_text = tokenizer.decode(output[0], skip_special_tokens=True)\n",
        "print(\"Сгенерированный текст:\")\n",
        "print(generated_text)"
      ]
    },
    {
      "cell_type": "markdown",
      "source": [
        "Задание 4 Примените один из трансформеров, например BERT, к\n",
        "задаче машинного перевода.\n"
      ],
      "metadata": {
        "id": "KXs2MkJr56Ny"
      }
    },
    {
      "cell_type": "code",
      "source": [
        "!pip install \"transformers[sentencepiece]\"\n",
        "!pip install transformers"
      ],
      "metadata": {
        "colab": {
          "base_uri": "https://localhost:8080/"
        },
        "id": "GM98Jisl_g4y",
        "outputId": "c02ecd1c-d48e-4d26-bb3c-90f843f31d8a"
      },
      "execution_count": null,
      "outputs": [
        {
          "output_type": "stream",
          "name": "stdout",
          "text": [
            "Requirement already satisfied: transformers[sentencepiece] in /usr/local/lib/python3.10/dist-packages (4.35.2)\n",
            "Requirement already satisfied: filelock in /usr/local/lib/python3.10/dist-packages (from transformers[sentencepiece]) (3.13.1)\n",
            "Requirement already satisfied: huggingface-hub<1.0,>=0.16.4 in /usr/local/lib/python3.10/dist-packages (from transformers[sentencepiece]) (0.19.4)\n",
            "Requirement already satisfied: numpy>=1.17 in /usr/local/lib/python3.10/dist-packages (from transformers[sentencepiece]) (1.23.5)\n",
            "Requirement already satisfied: packaging>=20.0 in /usr/local/lib/python3.10/dist-packages (from transformers[sentencepiece]) (23.2)\n",
            "Requirement already satisfied: pyyaml>=5.1 in /usr/local/lib/python3.10/dist-packages (from transformers[sentencepiece]) (6.0.1)\n",
            "Requirement already satisfied: regex!=2019.12.17 in /usr/local/lib/python3.10/dist-packages (from transformers[sentencepiece]) (2023.6.3)\n",
            "Requirement already satisfied: requests in /usr/local/lib/python3.10/dist-packages (from transformers[sentencepiece]) (2.31.0)\n",
            "Requirement already satisfied: tokenizers<0.19,>=0.14 in /usr/local/lib/python3.10/dist-packages (from transformers[sentencepiece]) (0.15.0)\n",
            "Requirement already satisfied: safetensors>=0.3.1 in /usr/local/lib/python3.10/dist-packages (from transformers[sentencepiece]) (0.4.1)\n",
            "Requirement already satisfied: tqdm>=4.27 in /usr/local/lib/python3.10/dist-packages (from transformers[sentencepiece]) (4.66.1)\n",
            "Collecting sentencepiece!=0.1.92,>=0.1.91 (from transformers[sentencepiece])\n",
            "  Downloading sentencepiece-0.1.99-cp310-cp310-manylinux_2_17_x86_64.manylinux2014_x86_64.whl (1.3 MB)\n",
            "\u001b[2K     \u001b[90m━━━━━━━━━━━━━━━━━━━━━━━━━━━━━━━━━━━━━━━━\u001b[0m \u001b[32m1.3/1.3 MB\u001b[0m \u001b[31m11.3 MB/s\u001b[0m eta \u001b[36m0:00:00\u001b[0m\n",
            "\u001b[?25hRequirement already satisfied: protobuf in /usr/local/lib/python3.10/dist-packages (from transformers[sentencepiece]) (3.20.3)\n",
            "Requirement already satisfied: fsspec>=2023.5.0 in /usr/local/lib/python3.10/dist-packages (from huggingface-hub<1.0,>=0.16.4->transformers[sentencepiece]) (2023.6.0)\n",
            "Requirement already satisfied: typing-extensions>=3.7.4.3 in /usr/local/lib/python3.10/dist-packages (from huggingface-hub<1.0,>=0.16.4->transformers[sentencepiece]) (4.5.0)\n",
            "Requirement already satisfied: charset-normalizer<4,>=2 in /usr/local/lib/python3.10/dist-packages (from requests->transformers[sentencepiece]) (3.3.2)\n",
            "Requirement already satisfied: idna<4,>=2.5 in /usr/local/lib/python3.10/dist-packages (from requests->transformers[sentencepiece]) (3.6)\n",
            "Requirement already satisfied: urllib3<3,>=1.21.1 in /usr/local/lib/python3.10/dist-packages (from requests->transformers[sentencepiece]) (2.0.7)\n",
            "Requirement already satisfied: certifi>=2017.4.17 in /usr/local/lib/python3.10/dist-packages (from requests->transformers[sentencepiece]) (2023.11.17)\n",
            "Installing collected packages: sentencepiece\n",
            "Successfully installed sentencepiece-0.1.99\n",
            "Requirement already satisfied: transformers in /usr/local/lib/python3.10/dist-packages (4.35.2)\n",
            "Requirement already satisfied: filelock in /usr/local/lib/python3.10/dist-packages (from transformers) (3.13.1)\n",
            "Requirement already satisfied: huggingface-hub<1.0,>=0.16.4 in /usr/local/lib/python3.10/dist-packages (from transformers) (0.19.4)\n",
            "Requirement already satisfied: numpy>=1.17 in /usr/local/lib/python3.10/dist-packages (from transformers) (1.23.5)\n",
            "Requirement already satisfied: packaging>=20.0 in /usr/local/lib/python3.10/dist-packages (from transformers) (23.2)\n",
            "Requirement already satisfied: pyyaml>=5.1 in /usr/local/lib/python3.10/dist-packages (from transformers) (6.0.1)\n",
            "Requirement already satisfied: regex!=2019.12.17 in /usr/local/lib/python3.10/dist-packages (from transformers) (2023.6.3)\n",
            "Requirement already satisfied: requests in /usr/local/lib/python3.10/dist-packages (from transformers) (2.31.0)\n",
            "Requirement already satisfied: tokenizers<0.19,>=0.14 in /usr/local/lib/python3.10/dist-packages (from transformers) (0.15.0)\n",
            "Requirement already satisfied: safetensors>=0.3.1 in /usr/local/lib/python3.10/dist-packages (from transformers) (0.4.1)\n",
            "Requirement already satisfied: tqdm>=4.27 in /usr/local/lib/python3.10/dist-packages (from transformers) (4.66.1)\n",
            "Requirement already satisfied: fsspec>=2023.5.0 in /usr/local/lib/python3.10/dist-packages (from huggingface-hub<1.0,>=0.16.4->transformers) (2023.6.0)\n",
            "Requirement already satisfied: typing-extensions>=3.7.4.3 in /usr/local/lib/python3.10/dist-packages (from huggingface-hub<1.0,>=0.16.4->transformers) (4.5.0)\n",
            "Requirement already satisfied: charset-normalizer<4,>=2 in /usr/local/lib/python3.10/dist-packages (from requests->transformers) (3.3.2)\n",
            "Requirement already satisfied: idna<4,>=2.5 in /usr/local/lib/python3.10/dist-packages (from requests->transformers) (3.6)\n",
            "Requirement already satisfied: urllib3<3,>=1.21.1 in /usr/local/lib/python3.10/dist-packages (from requests->transformers) (2.0.7)\n",
            "Requirement already satisfied: certifi>=2017.4.17 in /usr/local/lib/python3.10/dist-packages (from requests->transformers) (2023.11.17)\n"
          ]
        }
      ]
    },
    {
      "cell_type": "code",
      "execution_count": null,
      "metadata": {
        "id": "YkPjVK63AG84",
        "colab": {
          "base_uri": "https://localhost:8080/"
        },
        "outputId": "8717ecfd-4a3b-4bd0-bd9f-9a0955da255a"
      },
      "outputs": [
        {
          "output_type": "stream",
          "name": "stderr",
          "text": [
            "/usr/local/lib/python3.10/dist-packages/transformers/models/marian/tokenization_marian.py:197: UserWarning: Recommended: pip install sacremoses.\n",
            "  warnings.warn(\"Recommended: pip install sacremoses.\")\n"
          ]
        },
        {
          "output_type": "stream",
          "name": "stdout",
          "text": [
            "Input text: Привет, как твои дела?\n",
            "Translated text: Hey, how are you?\n"
          ]
        }
      ],
      "source": [
        "from transformers import MarianMTModel, MarianTokenizer\n",
        "\n",
        "model_name = \"Helsinki-NLP/opus-mt-ru-en\"\n",
        "tokenizer = MarianTokenizer.from_pretrained(model_name)\n",
        "model = MarianMTModel.from_pretrained(model_name)\n",
        "\n",
        "input_text = \"Привет, как твои дела?\"\n",
        "\n",
        "input_ids = tokenizer.encode(input_text, return_tensors=\"pt\")\n",
        "\n",
        "output_ids = model.generate(input_ids)\n",
        "\n",
        "# Декодирование выходных токенов\n",
        "output_text = tokenizer.decode(output_ids[0], skip_special_tokens=True)\n",
        "\n",
        "print(\"Input text:\", input_text)\n",
        "print(\"Translated text:\", output_text)\n"
      ]
    },
    {
      "cell_type": "code",
      "source": [],
      "metadata": {
        "id": "Q32JLpORsO3v"
      },
      "execution_count": null,
      "outputs": []
    }
  ],
  "metadata": {
    "accelerator": "GPU",
    "colab": {
      "provenance": [],
      "gpuType": "T4"
    },
    "kernelspec": {
      "display_name": "Python 3",
      "name": "python3"
    },
    "language_info": {
      "name": "python"
    }
  },
  "nbformat": 4,
  "nbformat_minor": 0
}