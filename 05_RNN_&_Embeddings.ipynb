{
  "nbformat": 4,
  "nbformat_minor": 0,
  "metadata": {
    "colab": {
      "provenance": [],
      "gpuType": "T4"
    },
    "kernelspec": {
      "name": "python3",
      "display_name": "Python 3"
    },
    "language_info": {
      "name": "python"
    },
    "accelerator": "GPU"
  },
  "cells": [
    {
      "cell_type": "code",
      "execution_count": null,
      "metadata": {
        "id": "b_Kt0psbuaA5"
      },
      "outputs": [],
      "source": [
        "from sklearn.datasets import fetch_20newsgroups\n",
        "newsgroups_train = fetch_20newsgroups(subset='train')"
      ]
    },
    {
      "cell_type": "code",
      "source": [
        "newsgroups_train.target_names"
      ],
      "metadata": {
        "colab": {
          "base_uri": "https://localhost:8080/"
        },
        "id": "LgxhubDsufII",
        "outputId": "864a1129-cdb1-4219-f38e-2df4d715d9e7"
      },
      "execution_count": null,
      "outputs": [
        {
          "output_type": "execute_result",
          "data": {
            "text/plain": [
              "['alt.atheism',\n",
              " 'comp.graphics',\n",
              " 'comp.os.ms-windows.misc',\n",
              " 'comp.sys.ibm.pc.hardware',\n",
              " 'comp.sys.mac.hardware',\n",
              " 'comp.windows.x',\n",
              " 'misc.forsale',\n",
              " 'rec.autos',\n",
              " 'rec.motorcycles',\n",
              " 'rec.sport.baseball',\n",
              " 'rec.sport.hockey',\n",
              " 'sci.crypt',\n",
              " 'sci.electronics',\n",
              " 'sci.med',\n",
              " 'sci.space',\n",
              " 'soc.religion.christian',\n",
              " 'talk.politics.guns',\n",
              " 'talk.politics.mideast',\n",
              " 'talk.politics.misc',\n",
              " 'talk.religion.misc']"
            ]
          },
          "metadata": {},
          "execution_count": 2
        }
      ]
    },
    {
      "cell_type": "code",
      "source": [
        "##Классификация rnn, построить эмбеддинги"
      ],
      "metadata": {
        "id": "M50XMgSOvR42"
      },
      "execution_count": null,
      "outputs": []
    },
    {
      "cell_type": "markdown",
      "source": [
        "Выберем новости"
      ],
      "metadata": {
        "id": "E3qjAjV8v9Be"
      }
    },
    {
      "cell_type": "code",
      "source": [
        "categories = ['alt.atheism', 'talk.religion.misc',\n",
        "              'comp.graphics', 'sci.space']\n",
        "\n",
        "#загрузка тренировочных данных\n",
        "newsgroups_train = fetch_20newsgroups(subset='train',\n",
        "                                      categories=categories)\n",
        "\n",
        "#тестовые данные\n",
        "newsgroups_test = fetch_20newsgroups(subset='test',\n",
        "                                      categories=categories)\n",
        "newsgroups_train.filenames.shape"
      ],
      "metadata": {
        "colab": {
          "base_uri": "https://localhost:8080/"
        },
        "id": "Ji13Pjj5vuEe",
        "outputId": "758b8618-0b98-466d-8c5b-ffd70c6db78a"
      },
      "execution_count": null,
      "outputs": [
        {
          "output_type": "execute_result",
          "data": {
            "text/plain": [
              "(2034,)"
            ]
          },
          "metadata": {},
          "execution_count": 4
        }
      ]
    },
    {
      "cell_type": "code",
      "source": [
        "import nltk, string\n",
        "nltk.download('wordnet')\n",
        "from nltk.tokenize import word_tokenize, sent_tokenize\n",
        "from nltk.corpus import stopwords\n",
        "from nltk.stem import WordNetLemmatizer\n",
        "nltk.download('stopwords')"
      ],
      "metadata": {
        "colab": {
          "base_uri": "https://localhost:8080/"
        },
        "id": "SZdXOHwGwCWP",
        "outputId": "be2e4ad2-c8e4-4753-be28-5ab558671b3c"
      },
      "execution_count": null,
      "outputs": [
        {
          "output_type": "stream",
          "name": "stderr",
          "text": [
            "[nltk_data] Downloading package wordnet to /root/nltk_data...\n",
            "[nltk_data]   Package wordnet is already up-to-date!\n",
            "[nltk_data] Downloading package stopwords to /root/nltk_data...\n",
            "[nltk_data]   Package stopwords is already up-to-date!\n"
          ]
        },
        {
          "output_type": "execute_result",
          "data": {
            "text/plain": [
              "True"
            ]
          },
          "metadata": {},
          "execution_count": 5
        }
      ]
    },
    {
      "cell_type": "markdown",
      "source": [
        "Очистим датасет от стоп слов, знаков препинания и поделим на токены"
      ],
      "metadata": {
        "id": "2Ap6FtsWwku-"
      }
    },
    {
      "cell_type": "code",
      "source": [
        "stop_words = set(stopwords.words('english'))\n",
        "lemmatizer = WordNetLemmatizer()\n",
        "\n",
        "#обработка текста, удаление стоп слов, знаков пунктуации, лемматизация\n",
        "def preprocess_text(text):\n",
        "    text = text.lower()\n",
        "    tokens = nltk.word_tokenize(text)\n",
        "    tokens = [lemmatizer.lemmatize(word) for word in tokens if word not in stop_words and word not in string.punctuation]\n",
        "    processed_text = ' '.join(tokens)\n",
        "\n",
        "    return processed_text\n",
        "newsgroups_train_preprocess = [preprocess_text(text) for text in newsgroups_train.data]\n",
        "newsgroups_test_preprocess = [preprocess_text(text) for text in newsgroups_test.data]\n",
        "newsgroups_train_preprocess[0]"
      ],
      "metadata": {
        "colab": {
          "base_uri": "https://localhost:8080/",
          "height": 91
        },
        "id": "dslaZD7dv4lh",
        "outputId": "defded6f-515a-4cf3-c9ce-d9576bde97a4"
      },
      "execution_count": null,
      "outputs": [
        {
          "output_type": "execute_result",
          "data": {
            "text/plain": [
              "\"rych festival.ed.ac.uk r hawkes subject 3d texture rule go line 21 hi 've noticed save model mapping plane positioned carefully .3ds file reload restarting 3d given default position orientation save .prj file positions/orientation preserved anyone know information stored .3ds file nothing explicitly said manual saving texture rule .prj file 'd like able read texture rule information anyone format .prj file .cel file format available somewhere rych ====================================================================== rycharde hawkes email rych festival.ed.ac.uk virtual environment laboratory dept psychology tel +44 31 650 3426 univ edinburgh fax +44 31 667 0150 ======================================================================\""
            ],
            "application/vnd.google.colaboratory.intrinsic+json": {
              "type": "string"
            }
          },
          "metadata": {},
          "execution_count": 6
        }
      ]
    },
    {
      "cell_type": "code",
      "source": [
        "newsgroups_train.target"
      ],
      "metadata": {
        "colab": {
          "base_uri": "https://localhost:8080/"
        },
        "id": "JZZaRmaQxgYG",
        "outputId": "92f975cb-0757-4081-ec9d-d717bee7e2c6"
      },
      "execution_count": null,
      "outputs": [
        {
          "output_type": "execute_result",
          "data": {
            "text/plain": [
              "array([1, 3, 2, ..., 1, 0, 1])"
            ]
          },
          "metadata": {},
          "execution_count": 7
        }
      ]
    },
    {
      "cell_type": "markdown",
      "source": [
        "Выполним векторизацию текста"
      ],
      "metadata": {
        "id": "6VnB16E18aID"
      }
    },
    {
      "cell_type": "code",
      "source": [
        "from sklearn.feature_extraction.text import TfidfVectorizer\n",
        "\n",
        "tfidf_vectorizer = TfidfVectorizer(max_features=2000)  # Уменьшили max_features до 1000\n",
        "\n",
        "X_train_tfidf = tfidf_vectorizer.fit_transform(newsgroups_train_preprocess)\n",
        "\n",
        "X_test_tfidf = tfidf_vectorizer.transform(newsgroups_test_preprocess)"
      ],
      "metadata": {
        "id": "uJhAPEfzy27D"
      },
      "execution_count": null,
      "outputs": []
    },
    {
      "cell_type": "markdown",
      "source": [
        "RNN модель"
      ],
      "metadata": {
        "id": "dR7ykHFszCST"
      }
    },
    {
      "cell_type": "code",
      "source": [
        "import tensorflow as tf\n",
        "from tensorflow.keras.models import Sequential\n",
        "from tensorflow.keras.layers import Embedding, LSTM, Dense\n",
        "from tensorflow.keras.layers import Bidirectional, SpatialDropout1D, Dropout"
      ],
      "metadata": {
        "id": "bx-EXRzC1NvN"
      },
      "execution_count": null,
      "outputs": []
    },
    {
      "cell_type": "code",
      "source": [
        "vocab_size = len(tfidf_vectorizer.get_feature_names_out())\n",
        "\n",
        "max_sequence_length = 2000\n",
        "\n",
        "num_classes = len(newsgroups_train.target)\n",
        "\n",
        "model = Sequential()\n",
        "model.add(Embedding(input_dim=vocab_size, output_dim=256, input_length=max_sequence_length))\n",
        "model.add(SpatialDropout1D(0.2))\n",
        "model.add(Bidirectional(LSTM(512, return_sequences=True)))\n",
        "model.add(Bidirectional(LSTM(128)))\n",
        "model.add(Dropout(0.5))\n",
        "model.add(Dense(128, activation='relu'))\n",
        "model.add(Dropout(0.5))\n",
        "model.add(Dense(num_classes, activation='softmax'))\n",
        "\n",
        "model.compile(optimizer='adam', loss='sparse_categorical_crossentropy', metrics=['accuracy'])\n",
        "\n",
        "model.fit(X_train_tfidf.toarray(), newsgroups_train.target, epochs=5, batch_size=64)\n",
        "\n",
        "loss, accuracy = model.evaluate(X_test_tfidf.toarray(), newsgroups_test.target)\n",
        "print(f'Test accuracy: {accuracy * 100:.2f}%')"
      ],
      "metadata": {
        "colab": {
          "base_uri": "https://localhost:8080/"
        },
        "id": "mBF5rVnZywi4",
        "outputId": "27c4c818-0008-444e-eef2-1005d01522bd"
      },
      "execution_count": null,
      "outputs": [
        {
          "output_type": "stream",
          "name": "stdout",
          "text": [
            "Epoch 1/5\n",
            "32/32 [==============================] - 46s 1s/step - loss: 3.3182 - accuracy: 0.2345\n",
            "Epoch 2/5\n",
            "32/32 [==============================] - 38s 1s/step - loss: 1.6046 - accuracy: 0.2557\n",
            "Epoch 3/5\n",
            "32/32 [==============================] - 39s 1s/step - loss: 1.4607 - accuracy: 0.2650\n",
            "Epoch 4/5\n",
            "32/32 [==============================] - 38s 1s/step - loss: 1.4252 - accuracy: 0.2768\n",
            "Epoch 5/5\n",
            "32/32 [==============================] - 38s 1s/step - loss: 1.4125 - accuracy: 0.2793\n",
            "43/43 [==============================] - 14s 298ms/step - loss: 1.3732 - accuracy: 0.2912\n",
            "Test accuracy: 29.12%\n"
          ]
        }
      ]
    },
    {
      "cell_type": "markdown",
      "source": [
        "Метрики получились низкие, это говорит либо о плохой предобработке, либо о плохой модели. Решить данную проблему можно изменяя архитектуру модели, добавляяя больше слоев или используя иные функции активации. Также можно попробовать изменить предобработку датасета"
      ],
      "metadata": {
        "id": "asjrANs77dK9"
      }
    },
    {
      "cell_type": "markdown",
      "source": [
        "Задача 2"
      ],
      "metadata": {
        "id": "eWoig0T06NT2"
      }
    },
    {
      "cell_type": "code",
      "source": [
        "from google.colab import drive\n",
        "drive.mount('/content/drive')"
      ],
      "metadata": {
        "colab": {
          "base_uri": "https://localhost:8080/"
        },
        "id": "ICDQUomfzFFC",
        "outputId": "687fba29-3e1f-4468-95b4-b95d5626d914"
      },
      "execution_count": null,
      "outputs": [
        {
          "output_type": "stream",
          "name": "stdout",
          "text": [
            "Mounted at /content/drive\n"
          ]
        }
      ]
    },
    {
      "cell_type": "code",
      "source": [
        "from gensim.models.keyedvectors import KeyedVectors\n",
        "wv_twitter_ebbeddings = KeyedVectors.load_word2vec_format(\"/content/drive/My Drive/Colab Notebooks/glove.twitter.27B.100d.txt\", binary=False)"
      ],
      "metadata": {
        "id": "2XOBZni17BJM"
      },
      "execution_count": null,
      "outputs": []
    },
    {
      "cell_type": "code",
      "source": [
        "newsgroups = fetch_20newsgroups(subset='all')\n",
        "valid_words = [word for text in newsgroups.data for word in text.split() if word in wv_twitter_ebbeddings]\n",
        "print(len(valid_words))\n",
        "word_embeddings_generator = (wv_twitter_ebbeddings[word] for word in valid_words if word in wv_twitter_ebbeddings)\n",
        "word_embeddings = list(word_embeddings_generator)"
      ],
      "metadata": {
        "colab": {
          "base_uri": "https://localhost:8080/"
        },
        "id": "omPcudeg7DGL",
        "outputId": "4e0ace0e-9359-4261-9d84-1ec9e2a2d049"
      },
      "execution_count": null,
      "outputs": [
        {
          "output_type": "stream",
          "name": "stdout",
          "text": [
            "3266957\n"
          ]
        }
      ]
    },
    {
      "cell_type": "code",
      "source": [
        "word_to_find = \"drive\"  # Замените на слово, которое вы хотите найти\n",
        "\n",
        "if word_to_find in wv_twitter_ebbeddings:\n",
        "    similar_words = wv_twitter_ebbeddings.similar_by_word(word_to_find, topn=10)\n",
        "    for word, score in similar_words:\n",
        "        print(f\"Слово: {word}, Схожесть: {score}\")\n",
        "else:\n",
        "    print(f\"Слово '{word_to_find}' отсутствует в эмбеддингах.\")"
      ],
      "metadata": {
        "colab": {
          "base_uri": "https://localhost:8080/"
        },
        "id": "DGRZXrDO-vOp",
        "outputId": "b4e15862-e6e8-44be-e5cd-8b264fa86c6e"
      },
      "execution_count": null,
      "outputs": [
        {
          "output_type": "stream",
          "name": "stdout",
          "text": [
            "Слово: run, Схожесть: 0.8035754561424255\n",
            "Слово: driving, Схожесть: 0.7964431047439575\n",
            "Слово: walk, Схожесть: 0.7523223161697388\n",
            "Слово: ride, Схожесть: 0.7445083260536194\n",
            "Слово: road, Схожесть: 0.7376804351806641\n",
            "Слово: truck, Схожесть: 0.7369340062141418\n",
            "Слово: way, Схожесть: 0.7359057664871216\n",
            "Слово: drives, Схожесть: 0.726816713809967\n",
            "Слово: speed, Схожесть: 0.7257543206214905\n",
            "Слово: car, Схожесть: 0.7253392338752747\n"
          ]
        }
      ]
    },
    {
      "cell_type": "code",
      "source": [
        "wv_twitter_ebbeddings['drive']"
      ],
      "metadata": {
        "colab": {
          "base_uri": "https://localhost:8080/"
        },
        "id": "F3wPD6zpAOjw",
        "outputId": "585fcdd5-d971-4e25-eae9-d6521cfa76b7"
      },
      "execution_count": null,
      "outputs": [
        {
          "output_type": "execute_result",
          "data": {
            "text/plain": [
              "array([ 1.1290e-01, -4.2279e-02,  7.9799e-01, -9.0015e-01,  4.9171e-01,\n",
              "        3.1423e-01,  4.4565e-01,  4.5166e-01,  4.7258e-01,  3.1820e-01,\n",
              "        1.5646e-01,  2.1389e-01, -3.6214e+00,  1.6312e-01, -2.6417e-01,\n",
              "       -5.7310e-01,  1.0452e-01,  1.5858e-01, -5.0048e-01, -4.7867e-01,\n",
              "       -2.4728e-01, -6.3285e-01,  9.1945e-04, -6.4473e-02,  3.1435e-01,\n",
              "        1.3471e-01, -4.4049e-01,  5.2006e-01, -2.6491e-02, -1.7642e-01,\n",
              "       -2.8870e-02,  2.1734e-01, -3.9332e-02,  4.3349e-01, -8.6976e-02,\n",
              "       -2.5281e-01,  1.9447e-01, -5.4666e-01, -2.7647e-01,  1.6736e-01,\n",
              "       -8.7234e-01,  1.5688e+00, -6.0826e-01, -3.2705e-01,  1.9757e-01,\n",
              "        2.1602e-01,  4.9319e-01,  4.1488e-02, -3.8608e-01, -4.3826e-02,\n",
              "        1.8597e-01, -9.2721e-02, -6.3279e-01,  4.7154e-01, -1.6383e-01,\n",
              "       -5.2938e-01, -9.9055e-02,  2.1034e-02, -2.6999e-01, -1.5535e-01,\n",
              "        5.4690e-01,  5.6305e-01,  1.1684e-01,  1.1194e-01,  4.1658e-01,\n",
              "        1.3018e-02, -2.5333e-01, -1.7507e-01,  3.1544e-01, -3.0326e-01,\n",
              "        3.9152e-01,  5.6722e-01, -6.2857e-01,  7.0484e-02,  6.1146e-01,\n",
              "       -2.4635e-01,  1.0713e+00,  1.6938e-01,  1.2653e-01, -2.3837e-01,\n",
              "        1.5918e+00,  1.2415e-01, -3.7869e-01, -3.5454e-02,  8.4421e-01,\n",
              "       -5.2609e-01, -1.1575e-01, -2.5764e-02,  7.8383e-02,  3.2804e-01,\n",
              "       -4.7349e-02,  5.8164e-02, -3.7256e-01, -3.1332e-01,  9.0712e-01,\n",
              "        4.2961e-01, -3.3967e-01, -5.4337e-01, -8.9889e-01, -1.5597e-02],\n",
              "      dtype=float32)"
            ]
          },
          "metadata": {},
          "execution_count": 38
        }
      ]
    },
    {
      "cell_type": "code",
      "source": [
        "wv_twitter_ebbeddings['run']"
      ],
      "metadata": {
        "colab": {
          "base_uri": "https://localhost:8080/"
        },
        "id": "yuYCpG8LB31P",
        "outputId": "68b41864-5608-4adc-c23a-3cbdf33140cf"
      },
      "execution_count": null,
      "outputs": [
        {
          "output_type": "execute_result",
          "data": {
            "text/plain": [
              "array([-3.7545e-02,  1.1898e-01,  2.6445e-01, -7.6977e-01,  8.6135e-02,\n",
              "        4.9159e-01,  6.5186e-01,  3.3472e-01, -2.8600e-01,  1.8043e-01,\n",
              "        4.3625e-01,  2.5313e-01, -3.7646e+00,  3.6397e-01, -6.4090e-01,\n",
              "       -4.9278e-01, -3.2588e-01, -8.0788e-02, -5.5677e-01, -2.4818e-01,\n",
              "       -2.6804e-02, -1.4919e-01, -6.3853e-02, -3.5695e-01,  2.2165e-01,\n",
              "        2.7029e-02, -1.9695e-01,  1.5099e-01, -1.1226e-01,  1.5583e-01,\n",
              "        2.1070e-01,  1.4041e-01, -2.9264e-01,  5.6477e-01,  2.0825e-03,\n",
              "        3.1600e-01,  1.8472e-01, -4.9405e-01, -3.3496e-01,  2.9211e-01,\n",
              "       -5.4029e-01,  8.7934e-01, -3.9010e-01,  6.5981e-02,  3.6901e-01,\n",
              "       -2.8464e-02,  1.5208e-01,  7.1456e-01,  4.8595e-01,  2.2912e-01,\n",
              "       -2.4792e-01, -2.3986e-01,  5.0812e-01,  5.0515e-01, -3.8752e-01,\n",
              "       -2.4902e-01,  1.7928e-02,  5.8749e-02, -3.0073e-01, -2.6155e-02,\n",
              "        5.7714e-03, -1.3286e-01,  4.3251e-04, -1.3966e-01,  3.6019e-01,\n",
              "       -4.0055e-01, -1.2270e-01, -4.3459e-02,  1.2906e-01, -2.9439e-01,\n",
              "        1.4937e-02,  3.1430e-01, -5.8159e-01, -1.7662e-01,  9.8779e-02,\n",
              "       -1.0283e-01,  4.9843e-01,  3.4365e-02,  3.1538e-01, -5.2122e-01,\n",
              "        1.7489e+00, -2.4173e-01, -7.6807e-02,  7.2640e-02,  5.3084e-01,\n",
              "       -9.7870e-02, -3.0467e-01,  4.9571e-02, -2.9675e-01, -1.9004e-01,\n",
              "       -2.7380e-01, -2.6248e-01, -8.3966e-01, -6.4233e-01,  3.8827e-01,\n",
              "       -8.2889e-02,  6.5141e-02,  1.8283e-02,  4.3190e-03,  1.1362e-01],\n",
              "      dtype=float32)"
            ]
          },
          "metadata": {},
          "execution_count": 39
        }
      ]
    },
    {
      "cell_type": "code",
      "source": [
        "wv_twitter_ebbeddings['walk']"
      ],
      "metadata": {
        "colab": {
          "base_uri": "https://localhost:8080/"
        },
        "id": "n0vyrc3OB8gz",
        "outputId": "3d6869ab-1c1e-489a-c03b-30fba74d8835"
      },
      "execution_count": null,
      "outputs": [
        {
          "output_type": "execute_result",
          "data": {
            "text/plain": [
              "array([-3.4195e-01, -1.7946e-01,  6.3669e-01, -7.6787e-01,  2.3682e-04,\n",
              "        5.2308e-01,  5.1993e-01,  5.5501e-01, -4.3731e-01, -4.8372e-02,\n",
              "        1.2470e-01,  1.4680e-01, -4.1649e+00,  4.4308e-01, -1.1076e+00,\n",
              "        2.6056e-01, -4.4285e-01, -5.5069e-02, -4.8600e-01, -2.1142e-01,\n",
              "        2.4941e-01, -4.1828e-01, -2.5149e-01, -5.7975e-01,  5.6504e-01,\n",
              "        3.6682e-01, -9.8677e-02,  1.3879e-01, -4.0591e-01,  1.0388e-01,\n",
              "        2.2349e-01,  1.3590e-01,  5.1235e-01,  4.1220e-01, -1.5530e-01,\n",
              "       -2.1991e-01, -2.3850e-01,  1.2786e-01,  1.3052e-01,  5.7099e-01,\n",
              "       -2.5087e-01,  4.7097e-01, -6.5942e-02,  6.2348e-02,  4.9478e-01,\n",
              "        5.6009e-01,  7.0259e-01,  6.6891e-01,  1.6475e-01,  3.7009e-01,\n",
              "       -8.5258e-03, -2.9449e-01,  2.7545e-01, -9.4577e-02, -5.8851e-01,\n",
              "       -4.7611e-01, -3.8746e-01,  3.7393e-01,  1.3773e-01, -1.4819e-01,\n",
              "        6.9004e-01,  3.0588e-01,  1.3439e-01, -5.0925e-01, -6.9567e-02,\n",
              "       -6.1202e-01, -4.7589e-03, -2.5082e-01,  2.3496e-02,  1.1143e-01,\n",
              "        1.7918e-01,  1.9602e-02,  6.8960e-03, -2.8393e-01,  7.2980e-01,\n",
              "       -3.7996e-01,  1.0792e+00, -8.4473e-02,  1.7999e-01, -2.9683e-01,\n",
              "        1.6749e+00, -3.2655e-01, -2.9963e-01, -1.7631e-01,  7.6853e-01,\n",
              "       -2.8235e-01, -4.0123e-01,  4.6913e-01, -4.6821e-02,  3.9398e-01,\n",
              "        3.7805e-01, -2.8697e-01, -4.8309e-01, -7.5790e-01, -2.6813e-02,\n",
              "        2.3280e-01,  2.7325e-01, -7.8366e-01,  1.6434e-01,  3.2375e-01],\n",
              "      dtype=float32)"
            ]
          },
          "metadata": {},
          "execution_count": 40
        }
      ]
    },
    {
      "cell_type": "markdown",
      "source": [
        "В данном задании были отобраны слова из датасета, которые встречаются в предобученных эмбэддингах и найдены наиболее похожие по смыслу слова:\n",
        "1) Успешно отфильтрованы слова из текстовых данных исходя из наличия их в предобученных эмбеддингах Twitter GloVe. Этот шаг позволит работать только с подходящими словами, улучшая качество анализа.\n",
        "\n",
        "2) Построены эмбеддинги для отобранных слов и провели анализ их близости к другим словам. Это позволяет находить семантически близкие слова и определять степень их схожести.\n",
        "\n",
        "3) Реализована функциональность поиска близких слов к заданному. Это может быть полезно, например, для нахождения синонимов или ассоциированных слов в текстовых данных."
      ],
      "metadata": {
        "id": "ABJ2A-MeCHB9"
      }
    },
    {
      "cell_type": "code",
      "source": [],
      "metadata": {
        "id": "wSOqvopkCmzM"
      },
      "execution_count": null,
      "outputs": []
    }
  ]
}