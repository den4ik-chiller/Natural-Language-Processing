{
  "cells": [
    {
      "cell_type": "markdown",
      "metadata": {
        "id": "P2JdzEXmwRU5"
      },
      "source": [
        "---"
      ]
    },
    {
      "cell_type": "markdown",
      "metadata": {
        "id": "BIWqBuEa6j0b"
      },
      "source": [
        "## Задача поиска схожих по смыслу предложений"
      ]
    },
    {
      "cell_type": "markdown",
      "metadata": {
        "id": "NUkwMPLA6j0g"
      },
      "source": [
        "Мы будем ранжировать вопросы [StackOverflow](https://stackoverflow.com) на основе семантического векторного представления"
      ]
    },
    {
      "cell_type": "markdown",
      "metadata": {
        "id": "dNRXIEfu5a3Q"
      },
      "source": [
        "До этого в курсе не было речи про задачу ранжировния, поэтому введем математическую формулировку"
      ]
    },
    {
      "cell_type": "markdown",
      "metadata": {
        "id": "uS9FwWNd5a3S"
      },
      "source": [
        "## Задача ранжирования(Learning to Rank)"
      ]
    },
    {
      "cell_type": "markdown",
      "metadata": {
        "id": "wdwY9-f75a3T"
      },
      "source": [
        "* $X$ - множество объектов\n",
        "* $X^l = \\{x_1, x_2, ..., x_l\\}$ - обучающая выборка\n",
        "<br>На обучающей выборке задан порядок между некоторыми элементами, то есть нам известно, что некий объект выборки более релевантный для нас, чем другой:\n",
        "* $i \\prec j$ - порядок пары индексов объектов на выборке $X^l$ c индексами $i$ и $j$\n",
        "### Задача:\n",
        "построить ранжирующую функцию $a$ : $X \\rightarrow R$ такую, что\n",
        "$$i \\prec j \\Rightarrow a(x_i) < a(x_j)$$"
      ]
    },
    {
      "cell_type": "markdown",
      "metadata": {
        "id": "WG2IGBsh5a3U"
      },
      "source": [
        "<img src=\"https://d25skit2l41vkl.cloudfront.net/wp-content/uploads/2016/12/Featured-Image.jpg\" width=500, height=450>"
      ]
    },
    {
      "cell_type": "markdown",
      "metadata": {
        "id": "MQk_rolFwT_h"
      },
      "source": [
        "### Embeddings"
      ]
    },
    {
      "cell_type": "markdown",
      "metadata": {
        "id": "xUe1PGXn6j0l"
      },
      "source": [
        "Будем использовать предобученные векторные представления слов на постах Stack Overflow.<br>\n",
        "[A word2vec model trained on Stack Overflow posts](https://github.com/vefstathiou/SO_word2vec)"
      ]
    },
    {
      "cell_type": "code",
      "execution_count": null,
      "metadata": {
        "id": "mYkI54Y-rk7a"
      },
      "outputs": [],
      "source": [
        "!wget https://zenodo.org/record/1199620/files/SO_vectors_200.bin?download=1"
      ]
    },
    {
      "cell_type": "code",
      "execution_count": null,
      "metadata": {
        "id": "bW8IrcZitvYq",
        "outputId": "7b2fff21-0070-4f7f-deed-45cb3200cfa5"
      },
      "outputs": [
        {
          "name": "stdout",
          "output_type": "stream",
          "text": [
            "Defaulting to user installation because normal site-packages is not writeable\n",
            "Collecting gensim\n",
            "  Obtaining dependency information for gensim from https://files.pythonhosted.org/packages/e8/d9/104988573fd2c1acdc64e66883b35fb8ae559310d2d9f77db78bf7de9add/gensim-4.3.2-cp310-cp310-manylinux_2_17_x86_64.manylinux2014_x86_64.whl.metadata\n",
            "  Downloading gensim-4.3.2-cp310-cp310-manylinux_2_17_x86_64.manylinux2014_x86_64.whl.metadata (8.4 kB)\n",
            "Requirement already satisfied: numpy>=1.18.5 in /home/andrey/.local/lib/python3.10/site-packages (from gensim) (1.24.3)\n",
            "Requirement already satisfied: scipy>=1.7.0 in /home/andrey/.local/lib/python3.10/site-packages (from gensim) (1.11.2)\n",
            "Requirement already satisfied: smart-open>=1.8.1 in /home/andrey/.local/lib/python3.10/site-packages (from gensim) (6.3.0)\n",
            "Downloading gensim-4.3.2-cp310-cp310-manylinux_2_17_x86_64.manylinux2014_x86_64.whl (26.5 MB)\n",
            "\u001b[2K   \u001b[38;2;114;156;31m━━━━━━━━━━━━━━━━━━━━━━━━━━━━━━━━━━━━━━━━\u001b[0m \u001b[32m26.5/26.5 MB\u001b[0m \u001b[31m21.1 MB/s\u001b[0m eta \u001b[36m0:00:00\u001b[0mm eta \u001b[36m0:00:01\u001b[0m0:01\u001b[0m:01\u001b[0m\n",
            "\u001b[?25hInstalling collected packages: gensim\n",
            "Successfully installed gensim-4.3.2\n"
          ]
        }
      ],
      "source": [
        "!pip install gensim"
      ]
    },
    {
      "cell_type": "code",
      "execution_count": null,
      "metadata": {
        "id": "O8YJTOYv6j0s"
      },
      "outputs": [],
      "source": [
        "from gensim.models.keyedvectors import KeyedVectors\n",
        "wv_embeddings = KeyedVectors.load_word2vec_format(\"SO_vectors_200.bin\", binary=True)\n",
        "wv_embeddings_google_news = KeyedVectors.load_word2vec_format(\"GoogleNews-vectors-negative300.bin\", binary=True)"
      ]
    },
    {
      "cell_type": "markdown",
      "metadata": {
        "id": "aIcT_g-C6j1E"
      },
      "source": [
        "#### Как пользоваться этими векторами?"
      ]
    },
    {
      "cell_type": "markdown",
      "metadata": {
        "id": "DWO5SPDY6j1G"
      },
      "source": [
        "Посмотрим на примере одного слова, что из себя представляет embedding"
      ]
    },
    {
      "cell_type": "markdown",
      "metadata": {
        "id": "9eXbUknktvYr"
      },
      "source": [
        "В качестве второго предобученного датасета с эмбеддингами берется датасет с kaggle, в котором хранятся гугл новости"
      ]
    },
    {
      "cell_type": "code",
      "execution_count": null,
      "metadata": {
        "id": "KeSBlQfk6j1J",
        "scrolled": true,
        "outputId": "15e630b6-6b08-40c9-cba5-2f4531f28240"
      },
      "outputs": [
        {
          "name": "stdout",
          "output_type": "stream",
          "text": [
            "float32 (200,)\n",
            "float32 (300,)\n"
          ]
        }
      ],
      "source": [
        "word = 'dog'\n",
        "if word in wv_embeddings:\n",
        "    print(wv_embeddings[word].dtype, wv_embeddings[word].shape)\n",
        "    word = 'dog'\n",
        "if word in wv_embeddings_google_news:\n",
        "    print(wv_embeddings_google_news[word].dtype, wv_embeddings_google_news[word].shape)"
      ]
    },
    {
      "cell_type": "code",
      "execution_count": null,
      "metadata": {
        "id": "T4Eq-D1qxpMJ",
        "outputId": "36a7f5ab-e8c4-4eff-cd08-93431bed1948"
      },
      "outputs": [
        {
          "name": "stdout",
          "output_type": "stream",
          "text": [
            "Num of words: 1787145\n",
            "Num of words in google news: 3000000\n"
          ]
        }
      ],
      "source": [
        "print(f\"Num of words: {len(wv_embeddings.index_to_key)}\")\n",
        "print(f\"Num of words in google news: {len(wv_embeddings_google_news.index_to_key)}\")"
      ]
    },
    {
      "cell_type": "markdown",
      "metadata": {
        "id": "qjI6iisAtvYu"
      },
      "source": [
        "Датасет гугл нвостей больше почти в 2 раза"
      ]
    },
    {
      "cell_type": "markdown",
      "metadata": {
        "id": "ZT6NTCys6j1Q"
      },
      "source": [
        "Найдем наиболее близкие слова к слову `dog`:"
      ]
    },
    {
      "cell_type": "markdown",
      "metadata": {
        "id": "n08z2PjMwC5o"
      },
      "source": [
        "#### Вопрос 1:\n",
        "* Входит ли слов `cat` топ-5 близких слов к слову `dog`? Какое место?"
      ]
    },
    {
      "cell_type": "code",
      "execution_count": null,
      "metadata": {
        "id": "nYwVz0xG6j1U",
        "scrolled": true,
        "outputId": "d8da0562-1a17-46c0-a4f9-0b40c3a70c51"
      },
      "outputs": [
        {
          "name": "stdout",
          "output_type": "stream",
          "text": [
            "Слово 'cat' не входит в топ-5 близких слов к 'dog'.\n",
            "Слово 'cat' входит в топ-5 google news близких слов к 'dog' на позиции 5.\n",
            "[('animal', 0.8564180135726929), ('dogs', 0.7880866527557373), ('mammal', 0.7623804211616516), ('cats', 0.7621253728866577), ('animals', 0.760793924331665)]\n",
            "[('dogs', 0.8680489659309387), ('puppy', 0.8106428384780884), ('pit_bull', 0.780396044254303), ('pooch', 0.7627376914024353), ('cat', 0.7609457969665527)]\n"
          ]
        }
      ],
      "source": [
        "top_5_similar_words = wv_embeddings.most_similar('dog')[:5]\n",
        "top_5_similar_words_google = wv_embeddings_google_news.most_similar('dog')[:5]\n",
        "\n",
        "cat_in_top_5 = any(word == 'cat' for word, _ in top_5_similar_words)\n",
        "cat_in_top_5_google = any(word == 'cat' for word, _ in top_5_similar_words_google)\n",
        "\n",
        "if cat_in_top_5:\n",
        "    position = [i+1 for i, (word, _) in enumerate(top_5_similar_words) if word == 'cat'][0]\n",
        "    print(f\"Слово 'cat' входит в топ-5 близких слов к 'dog' на позиции {position}.\")\n",
        "else:\n",
        "    print(\"Слово 'cat' не входит в топ-5 близких слов к 'dog'.\")\n",
        "\n",
        "if cat_in_top_5_google:\n",
        "    position = [i+1 for i, (word, _) in enumerate(top_5_similar_words_google) if word == 'cat'][0]\n",
        "    print(f\"Слово 'cat' входит в топ-5 google news близких слов к 'dog' на позиции {position}.\")\n",
        "else:\n",
        "    print(\"Слово 'cat' не входит в топ-5 google news близких слов к 'dog'.\")\n",
        "print(top_5_similar_words)\n",
        "print(top_5_similar_words_google)\n"
      ]
    },
    {
      "cell_type": "markdown",
      "metadata": {
        "id": "iCa0d68etvYu"
      },
      "source": [
        "В датасете со StackOverflow слово cat не входит топ 5 слов близких слов к слову dog. Это можно объяснить тем, что вопросы на StackOverflow ориентированы на программные решения.\n",
        "\n",
        "Что касается датасета с новостями, то слово cat входит в топ 5 близких слов на 5 позиции."
      ]
    },
    {
      "cell_type": "markdown",
      "metadata": {
        "id": "ai48-5vv6j1d"
      },
      "source": [
        "### Векторные представления текста\n",
        "\n",
        "Перейдем от векторных представлений отдельных слов к векторным представлениям вопросов, как к **среднему** векторов всех слов в вопросе. Если для какого-то слова нет предобученного вектора, то его нужно пропустить. Если вопрос не содержит ни одного известного слова, то нужно вернуть нулевой вектор."
      ]
    },
    {
      "cell_type": "code",
      "execution_count": null,
      "metadata": {
        "id": "EhNuxBJd6j1f"
      },
      "outputs": [],
      "source": [
        "from nltk.tokenize import WordPunctTokenizer\n",
        "tokenizer = WordPunctTokenizer()"
      ]
    },
    {
      "cell_type": "code",
      "execution_count": null,
      "metadata": {
        "id": "YHcvu6186j1m",
        "outputId": "65dbe6db-b1e2-4ca3-fae3-91a0b6e6cb2a"
      },
      "outputs": [
        {
          "name": "stdout",
          "output_type": "stream",
          "text": [
            "[ 0.04758342  0.1043864   1.61915767  0.8074016  -1.99182165  0.06548174\n",
            " -1.46828127  0.21234712  0.86960089 -2.25627613 -1.53800523 -1.72828186\n",
            " -0.98838788 -0.0647449  -2.07048965 -0.34603521 -2.31884408  1.32516062\n",
            "  0.57407027  2.48408914 -0.3021597   1.80067503  1.80627775 -0.86563927\n",
            " -0.65428364 -0.5026263   0.44397047  2.26097298 -1.36881125 -2.09525418\n",
            "  0.45501301 -1.67106044  0.67697126 -0.26760721 -0.70426261 -1.18388033\n",
            "  0.84861434 -1.87027824  0.72793448  2.27651691 -1.16022742 -1.46120775\n",
            "  0.90104181 -1.37618864 -0.19955006  0.17984794  0.28916872  0.28367925\n",
            "  1.35920763  3.56088662 -1.2192415  -0.39393994 -0.6585961  -3.7409966\n",
            "  0.62410444 -1.86811972  1.67136621  0.52260935 -3.47729373  0.54318392\n",
            "  0.772609    0.13898942 -0.56915224  0.17635784  0.88446689  0.66217452\n",
            " -0.11441653 -0.233316    0.0341717  -2.81008863  1.3904984   2.06808424\n",
            "  1.55512798  1.78024185  1.34696269  1.78097987  1.57226515  1.5728122\n",
            "  0.10570773 -1.20426238  3.27850366  0.52439314  0.0424478   0.41851097\n",
            " -0.19387136  0.44480971 -0.67602557 -0.16229659  2.03634644 -2.89780545\n",
            "  1.5163517   0.24801652  2.24959421  0.72097957 -0.74810535 -2.71289301\n",
            " -0.33959243 -0.00945327  0.26644874 -1.40357673 -1.15091908  0.35503295\n",
            " -0.76262599  1.326545   -1.25377524  0.10665497  0.18807584 -0.34091824\n",
            "  0.08547906  0.71991724  0.4980053  -1.6093303  -2.5024879   1.03059196\n",
            " -2.86555552 -1.95645189 -0.14707823 -1.08593845  2.46969032 -0.14392324\n",
            " -0.05435514  0.63619423  0.68594003 -0.31220508 -2.46746206  0.5760144\n",
            "  0.17490497 -1.63882482  2.46884894 -0.18026516  2.20674777 -1.58906627\n",
            " -0.16022725  0.85561258  0.14454448  1.04915249 -0.4255257  -2.44374084\n",
            "  2.39997602  0.18152992  0.04718803  0.43842411 -1.17225122  2.85832572\n",
            "  1.40882289 -1.23917019 -0.80906004  0.23337863  1.29018295  1.63697302\n",
            "  1.47472417 -2.26140451  0.43918714  2.82957602 -1.17523801 -0.22420566\n",
            " -3.48920918 -1.72681975  0.58517247  0.30748343 -0.09689758 -1.43307364\n",
            "  0.24362068 -0.77589011  0.32961634 -0.07510354 -1.47675276 -1.59516215\n",
            " -2.26365733 -0.76877773  1.92271388 -0.43652022 -1.73022294 -0.01997879\n",
            "  1.22630453  1.79449701 -0.14349112 -0.5429756   1.02701664  0.6089707\n",
            " -0.8951242  -0.50468564 -0.68722862 -1.30338848 -1.79640555  0.38107753\n",
            "  2.50682068 -1.1055392  -1.25774181  0.20163547 -3.19641423  0.15983678\n",
            " -0.54767764 -2.60430312  2.28396845 -1.59473455  1.31068909  0.86264902\n",
            "  0.80206704 -1.323771  ]\n"
          ]
        }
      ],
      "source": [
        "import numpy as np\n",
        "\n",
        "def question_to_vec(question, embeddings, tokenizer, dim=200):\n",
        "\n",
        "    tokens = tokenizer.tokenize(question)\n",
        "    vec = np.zeros(dim)\n",
        "    word_count = 0\n",
        "\n",
        "    for token in tokens:\n",
        "        if token in embeddings:\n",
        "            vec += embeddings[token]\n",
        "            word_count += 1\n",
        "\n",
        "    if word_count > 0:\n",
        "        vec /= word_count\n",
        "\n",
        "    return vec\n",
        "\n",
        "question = \"What's up, doc?\"\n",
        "vec = question_to_vec(question, wv_embeddings, tokenizer, dim=200)\n",
        "print(vec)\n",
        "\n"
      ]
    },
    {
      "cell_type": "code",
      "execution_count": null,
      "metadata": {
        "id": "wO1u-awTtvYv",
        "outputId": "89ac72df-f3f3-4bbb-e8a9-b6637312f3fd"
      },
      "outputs": [
        {
          "name": "stdout",
          "output_type": "stream",
          "text": [
            "[-0.06887817  0.13851929  0.09716797  0.11700439 -0.07254028  0.02880859\n",
            "  0.08892822 -0.08273315  0.08148193 -0.03393555 -0.08176422 -0.15527344\n",
            " -0.03479004  0.01931763 -0.12231445  0.0869751   0.06078339  0.09515381\n",
            " -0.02400208 -0.08093262  0.00848389  0.09790039  0.05557251 -0.00257874\n",
            "  0.03014946 -0.00592041 -0.09899902 -0.02862549  0.01922607  0.02783203\n",
            " -0.03529167  0.06925964 -0.12582397 -0.07250977 -0.09442139  0.05395508\n",
            " -0.14233398  0.08947754  0.10870361  0.11499023  0.01660156 -0.13366699\n",
            "  0.06329346  0.04675293 -0.04379272  0.02703857 -0.00421143 -0.02893066\n",
            "  0.13220215  0.08950806 -0.0592041   0.00683594 -0.08010864  0.01846313\n",
            "  0.05725098 -0.03033447 -0.04376221 -0.00234985  0.04919434 -0.0602417\n",
            " -0.0344429   0.0259552  -0.07002127  0.00262451 -0.07403564 -0.10693359\n",
            " -0.04577637  0.03259277  0.04638672 -0.03561401  0.05285358  0.06915283\n",
            "  0.06201172  0.07174683 -0.12792969  0.04211426  0.07662964  0.03735352\n",
            "  0.01635742  0.16152954  0.02600098 -0.05038452 -0.02096558  0.04022217\n",
            "  0.00285339 -0.12265015 -0.09466553  0.06558228  0.00333786 -0.10903931\n",
            "  0.01422119  0.16186523 -0.00750732 -0.09851074  0.03984833  0.14897156\n",
            "  0.06103516  0.02459717  0.01184082 -0.02783203 -0.07910156 -0.13037109\n",
            "  0.01296997 -0.05200195 -0.00305176  0.03656006 -0.12621307  0.00942993\n",
            " -0.03686523 -0.04699707 -0.03321838 -0.0486145   0.0055542  -0.08236694\n",
            "  0.19946289  0.04455566  0.01452637 -0.03496552  0.03870246  0.05151367\n",
            " -0.08258057 -0.02392578 -0.05020142 -0.0335083   0.11126709  0.0196228\n",
            " -0.13298035  0.01977539  0.03352356 -0.04006004 -0.19641113 -0.16834259\n",
            "  0.0425415  -0.07537842  0.11760998 -0.00683594  0.07048035 -0.05596924\n",
            " -0.05419922  0.17523193  0.16644287 -0.08868408 -0.00054932  0.11712646\n",
            "  0.05993652 -0.19008636  0.1461792   0.03723145 -0.03799438  0.0680542\n",
            "  0.03225708 -0.10357666 -0.03720093  0.00915527 -0.00674438 -0.13903809\n",
            " -0.14135742  0.00366211 -0.08158875  0.04310989  0.03114319  0.04956055\n",
            " -0.05860138  0.11248779  0.04223633 -0.10241699  0.12863159 -0.05934143\n",
            " -0.07476807  0.01953125 -0.14526367  0.02529907  0.10083008 -0.15905762\n",
            " -0.06949997  0.10168457  0.14105225 -0.10975647 -0.05914307 -0.04431152\n",
            " -0.08892059 -0.08929014  0.05017471 -0.07641602 -0.02438354  0.14916992\n",
            " -0.03466797  0.04519081  0.06359863 -0.01851654  0.06054688  0.02380371\n",
            "  0.13366699 -0.03198242  0.04608154 -0.0670166  -0.16308594 -0.04003239\n",
            " -0.02191162 -0.10058594 -0.05627441  0.10058594 -0.05633545  0.0201416\n",
            "  0.05493164  0.12977171 -0.15457153  0.06594849  0.02703857  0.03326416\n",
            "  0.02572632  0.2102356  -0.06171799  0.10205078 -0.11755371  0.13430786\n",
            "  0.04370117 -0.03521729 -0.12200928  0.03747559 -0.09674072  0.0234375\n",
            " -0.00216675  0.06994629  0.03613281 -0.13464355  0.0401001   0.03431702\n",
            " -0.02069092 -0.01068115 -0.00073242 -0.0859375  -0.01362205 -0.02856445\n",
            "  0.00286102  0.01312256  0.12544632  0.08483887 -0.0111084   0.08178711\n",
            "  0.07633209 -0.050354   -0.00271606 -0.03222656 -0.02096558  0.01037598\n",
            " -0.03210449  0.17089844  0.14523506 -0.03789139 -0.00738525 -0.03890991\n",
            "  0.03077698  0.18261719  0.08578491 -0.01229858  0.08410645  0.00511885\n",
            "  0.04927063 -0.02362061  0.03489685  0.03881836 -0.0682373  -0.11730957\n",
            "  0.0329895   0.16186523 -0.04370117 -0.00436401 -0.10878754 -0.02687836\n",
            " -0.137146    0.08215332  0.23388672 -0.01654053  0.10009766 -0.11520386\n",
            " -0.0713501  -0.15325928 -0.04437256  0.05401611  0.04833984 -0.10272217\n",
            " -0.04971313  0.15759277  0.0418396   0.11193848 -0.09053802 -0.0806427\n",
            " -0.03488159 -0.0085907   0.06581116 -0.01428223 -0.1784668   0.09527588\n",
            " -0.17810059 -0.16842747 -0.06530762  0.06289673 -0.05187988  0.06370544]\n"
          ]
        }
      ],
      "source": [
        "question = \"What's up, doc?\"\n",
        "vec = question_to_vec(question, wv_embeddings_google_news, tokenizer, dim=300)\n",
        "print(vec)"
      ]
    },
    {
      "cell_type": "markdown",
      "metadata": {
        "id": "u5Q_4j7r6j1u"
      },
      "source": [
        "Теперь у нас есть метод для создания векторного представления любого предложения."
      ]
    },
    {
      "cell_type": "markdown",
      "metadata": {
        "id": "EsJSNkhm6j1y"
      },
      "source": [
        "#### Вопрос 2:\n",
        "* Какая третья(с индексом 2) компонента вектора предложения `I love neural networks` (округлите до 2 знаков после запятой)?"
      ]
    },
    {
      "cell_type": "code",
      "execution_count": null,
      "metadata": {
        "id": "a62r11cT6j10",
        "scrolled": true,
        "outputId": "95e99a73-d1e7-4edd-b913-eb72c84569e9"
      },
      "outputs": [
        {
          "name": "stdout",
          "output_type": "stream",
          "text": [
            "Третья компонента вектора Stackoverflow -1.29\n",
            "Третья компонента вектора Google News 0.02\n"
          ]
        },
        {
          "data": {
            "text/plain": [
              "0.02"
            ]
          },
          "execution_count": 8,
          "metadata": {},
          "output_type": "execute_result"
        }
      ],
      "source": [
        "input_sentence = \"I love neural networks\"\n",
        "\n",
        "vector_from_sentence_stack = question_to_vec(input_sentence, wv_embeddings, tokenizer)\n",
        "third_component_stack = round(vector_from_sentence_stack[2],2)\n",
        "\n",
        "vector_from_sentence_google = question_to_vec(input_sentence, wv_embeddings_google_news, tokenizer, dim=300)\n",
        "third_component_google = round(vector_from_sentence_google[2],2)\n",
        "\n",
        "\n",
        "print(f'Третья компонента вектора Stackoverflow {third_component_stack}')\n",
        "print(f'Третья компонента вектора Google News {third_component_google}')\n",
        "third_component_google"
      ]
    },
    {
      "cell_type": "code",
      "execution_count": null,
      "metadata": {
        "id": "jJWTkdY0tvYw",
        "outputId": "ca6e471e-2a71-497c-ac79-d835746e3d64"
      },
      "outputs": [
        {
          "name": "stdout",
          "output_type": "stream",
          "text": [
            "Третья компонента вектора Stackoverflow -1.2899999618530273\n",
            "Третья компонента вектора Google News 0.019999999552965164\n"
          ]
        }
      ],
      "source": [
        "sentence = \"I love neural networks\"\n",
        "\n",
        "tokens = tokenizer.tokenize(sentence)\n",
        "\n",
        "vectors_stack = [wv_embeddings[word] for word in tokens if word in wv_embeddings]\n",
        "vectors_google = [wv_embeddings_google_news[word] for word in tokens if word in wv_embeddings_google_news]\n",
        "\n",
        "combined_vector_stack = np.mean(vectors_stack, axis=0)\n",
        "combined_vector_google = np.mean(vectors_google, axis=0)\n",
        "\n",
        "third_component_stack = combined_vector_stack[2]\n",
        "third_component_google = combined_vector_google[2]\n",
        "\n",
        "third_component_rounded_stack = round(third_component_stack, 2)\n",
        "third_component_rounded_google = round(third_component_google, 2)\n",
        "\n",
        "print(f'Третья компонента вектора Stackoverflow {third_component_rounded_stack}')\n",
        "print(f'Третья компонента вектора Google News {third_component_rounded_google}')"
      ]
    },
    {
      "cell_type": "markdown",
      "metadata": {
        "id": "Y60z4t6W6j16"
      },
      "source": [
        "### Оценка близости текстов\n",
        "\n",
        "Представим, что мы используем идеальные векторные представления слов. Тогда косинусное расстояние между дублирующими предложениями должно быть меньше, чем между случайно взятыми предложениями.\n",
        "\n",
        "Сгенерируем для каждого из $N$ вопросов $R$ случайных отрицательных примеров и примешаем к ним также настоящие дубликаты. Для каждого вопроса будем ранжировать с помощью нашей модели $R + 1$ примеров и смотреть на позицию дубликата. Мы хотим, чтобы дубликат был первым в ранжированном списке.\n",
        "\n",
        "#### Hits@K\n",
        "Первой простой метрикой будет количество корректных попаданий для какого-то $K$:\n",
        "$$ \\text{Hits@K} = \\frac{1}{N}\\sum_{i=1}^N \\, [rank\\_q_i^{'} \\le K],$$\n",
        "* $\\begin{equation*}\n",
        "[x < 0 ] \\equiv\n",
        " \\begin{cases}\n",
        "   1, &x < 0\\\\\n",
        "   0, &x \\geq 0\n",
        " \\end{cases}\n",
        "\\end{equation*}$ - индикаторная функция\n",
        "* $q_i$ - $i$-ый вопрос\n",
        "* $q_i^{'}$ - его дубликат\n",
        "* $rank\\_q_i^{'}$ - позиция дубликата в ранжированном списке ближайших предложений для вопроса $q_i$.\n",
        "\n",
        "#### DCG@K\n",
        "Второй метрикой будет упрощенная DCG метрика, учитывающая порядок элементов в списке путем домножения релевантности элемента на вес равный обратному логарифму номера позиции::\n",
        "$$ \\text{DCG@K} = \\frac{1}{N} \\sum_{i=1}^N\\frac{1}{\\log_2(1+rank\\_q_i^{'})}\\cdot[rank\\_q_i^{'} \\le K],$$\n",
        "С такой метрикой модель штрафуется за большой ранк корректного ответа"
      ]
    },
    {
      "cell_type": "markdown",
      "metadata": {
        "id": "eHCnH-jw6j18"
      },
      "source": [
        "#### Вопрос 3:\n",
        "* Максимум `Hits@47 - DCG@1`?"
      ]
    },
    {
      "cell_type": "markdown",
      "metadata": {
        "id": "kmRaWqa_tvYw"
      },
      "source": [
        "Если мы хотим найти максимальную разницу между `Hits@47 и DCG@1`, то тогда Hits@47 должно быть максимальным, а DCG@1 должно быть минимальным.\n",
        "\n",
        "Максимальное значение для Hits@47 это 1 при условии, что для каждого запроса ранг дубликата <= 47.\n",
        "\n",
        "Минимальное значение для DCG@1 это 0 при условии, что для каждого запроса ранг дубликата > 1.\n",
        "\n",
        "`Ответ: максимальная разница будет равна 1.`"
      ]
    },
    {
      "cell_type": "markdown",
      "metadata": {
        "id": "_tFemBkP6j1-"
      },
      "source": [
        "<img src='https://hsto.org/files/1c5/edf/dee/1c5edfdeebce4b71a86bdf986d9f88f2.jpg' width=400, height=200>"
      ]
    },
    {
      "cell_type": "markdown",
      "metadata": {
        "id": "0sUSxk866j1_"
      },
      "source": [
        "#### Пример оценок\n",
        "\n",
        "Вычислим описанные выше метрики для игрушечного примера.\n",
        "Пусть\n",
        "* $N = 1$, $R = 3$\n",
        "* <font color='green'>\"Что такое python?\"</font> - вопрос $q_1$\n",
        "* <font color='red'>\"Что такое язык python?\"</font> - его дубликат $q_i^{'}$\n",
        "\n",
        "Пусть модель выдала следующий ранжированный список кандидатов:\n",
        "\n",
        "1. \"Как изучить с++?\"\n",
        "2. <font color='red'>\"Что такое язык python?\"</font>\n",
        "3. \"Хочу учить Java\"\n",
        "4. \"Не понимаю Tensorflow\"\n",
        "\n",
        "$\\Rightarrow rank\\_q_i^{'} = 2$\n",
        "\n",
        "Вычислим метрику *Hits@K* для *K = 1, 4*:\n",
        "\n",
        "- [K = 1] $\\text{Hits@1} =  [rank\\_q_i^{'} \\le 1)] = 0$\n",
        "- [K = 4] $\\text{Hits@4} =  [rank\\_q_i^{'} \\le 4] = 1$\n",
        "\n",
        "Вычислим метрику *DCG@K* для *K = 1, 4*:\n",
        "- [K = 1] $\\text{DCG@1} = \\frac{1}{\\log_2(1+2)}\\cdot[2 \\le 1] = 0$\n",
        "- [K = 4] $\\text{DCG@4} = \\frac{1}{\\log_2(1+2)}\\cdot[2 \\le 4] = \\frac{1}{\\log_2{3}}$"
      ]
    },
    {
      "cell_type": "markdown",
      "metadata": {
        "id": "B4L6HJJC6j2B"
      },
      "source": [
        "#### Вопрос 4:\n",
        "* Вычислите `DCG@10`, если $rank\\_q_i^{'} = 9$(округлите до одного знака после запятой)"
      ]
    },
    {
      "cell_type": "code",
      "execution_count": null,
      "metadata": {
        "id": "Y0QDfmZYtvYx",
        "outputId": "6716376a-c264-4ad2-c856-6e626b3e9f71"
      },
      "outputs": [
        {
          "name": "stdout",
          "output_type": "stream",
          "text": [
            "DCG@10, если rank_qi' = 9 равно 0.3\n"
          ]
        }
      ],
      "source": [
        "import math\n",
        "rank = 9\n",
        "K= 10\n",
        "DCG = 1/math.log2(1+rank)*(rank <= K)\n",
        "print(f\"DCG@10, если rank_qi' = 9 равно {round(DCG,1)}\")"
      ]
    },
    {
      "cell_type": "markdown",
      "metadata": {
        "id": "J5xWOORI6j2F"
      },
      "source": [
        "### HITS\\_COUNT и DCG\\_SCORE"
      ]
    },
    {
      "cell_type": "markdown",
      "metadata": {
        "id": "I1q9WQOx6j2H"
      },
      "source": [
        "Каждая функция имеет два аргумента: $dup\\_ranks$ и $k$. $dup\\_ranks$ является списком, который содержит рейтинги дубликатов(их позиции в ранжированном списке). Например, $dup\\_ranks = [2]$ для примера, описанного выше."
      ]
    },
    {
      "cell_type": "code",
      "execution_count": null,
      "metadata": {
        "id": "F5VwySUB6j2J"
      },
      "outputs": [],
      "source": [
        "def hits_count(dup_ranks, k):\n",
        "    hits_value = 0\n",
        "    for dup_rank in dup_ranks:\n",
        "        if dup_rank <= k:\n",
        "            hits_value += 1\n",
        "    hits_value /= len(dup_ranks)\n",
        "    return hits_value"
      ]
    },
    {
      "cell_type": "code",
      "execution_count": null,
      "metadata": {
        "id": "82hQaxCH6j2R"
      },
      "outputs": [],
      "source": [
        "def dcg_score(dup_ranks, k):\n",
        "    dcg_value = 0\n",
        "    for dup_rank in dup_ranks:\n",
        "        if dup_rank <= k:\n",
        "            dcg_value += 1 / math.log(1 + dup_rank, 2)\n",
        "    dcg_value /= len(dup_ranks)\n",
        "    return dcg_value"
      ]
    },
    {
      "cell_type": "markdown",
      "metadata": {
        "id": "PcwHeXN26j2Y"
      },
      "source": [
        "Протестируем функции. Пусть $N = 1$, то есть один эксперимент. Будем искать копию вопроса и оценивать метрики."
      ]
    },
    {
      "cell_type": "code",
      "execution_count": null,
      "metadata": {
        "id": "fjISmOEW6j2h"
      },
      "outputs": [],
      "source": [
        "import pandas as pd"
      ]
    },
    {
      "cell_type": "code",
      "execution_count": null,
      "metadata": {
        "id": "gLa_Wqfh6j2m",
        "outputId": "d4681183-22a6-43d3-84d1-69193c68f525"
      },
      "outputs": [
        {
          "name": "stdout",
          "output_type": "stream",
          "text": [
            "Ваш ответ HIT: [0.0, 1.0, 1.0, 1.0]\n",
            "Ваш ответ DCG: [0.0, 0.63093, 0.63093, 0.63093]\n"
          ]
        }
      ],
      "source": [
        "copy_answers = [\"How does the catch keyword determine the type of exception that was thrown\"]\n",
        "\n",
        "# наги кандидаты\n",
        "candidates_ranking = [[\"How Can I Make These Links Rotate in PHP\",\n",
        "                       \"How does the catch keyword determine the type of exception that was thrown\",\n",
        "                       \"NSLog array description not memory address\",\n",
        "                       \"PECL_HTTP not recognised php ubuntu\"],]\n",
        "\n",
        "def find_dup_ranks(candidates, copy_answer):\n",
        "    for i, candidate in enumerate(candidates, 1):\n",
        "        if candidate == copy_answer:\n",
        "            return i\n",
        "\n",
        "# dup_ranks — позиции наших копий, так как эксперимент один, то этот массив длины 1\n",
        "dup_ranks = [find_dup_ranks(sentence, copy_answers[i]) for i, sentence in enumerate(candidates_ranking)]\n",
        "\n",
        "# вычисляем метрику для разных k\n",
        "print('Ваш ответ HIT:', [hits_count(dup_ranks, k) for k in range(1, 5)])\n",
        "print('Ваш ответ DCG:', [round(dcg_score(dup_ranks, k), 5) for k in range(1, 5)])"
      ]
    },
    {
      "cell_type": "markdown",
      "metadata": {
        "id": "MoHC3YoQ6j2t"
      },
      "source": [
        "У вас должно получиться"
      ]
    },
    {
      "cell_type": "code",
      "execution_count": null,
      "metadata": {
        "id": "B0NFWq4f6j2u",
        "scrolled": true,
        "outputId": "b695f73a-80b9-4eb3-a522-9734131b0dee"
      },
      "outputs": [
        {
          "data": {
            "text/html": [
              "<div>\n",
              "<style scoped>\n",
              "    .dataframe tbody tr th:only-of-type {\n",
              "        vertical-align: middle;\n",
              "    }\n",
              "\n",
              "    .dataframe tbody tr th {\n",
              "        vertical-align: top;\n",
              "    }\n",
              "\n",
              "    .dataframe thead th {\n",
              "        text-align: right;\n",
              "    }\n",
              "</style>\n",
              "<table border=\"1\" class=\"dataframe\">\n",
              "  <thead>\n",
              "    <tr style=\"text-align: right;\">\n",
              "      <th></th>\n",
              "      <th>1</th>\n",
              "      <th>2</th>\n",
              "      <th>3</th>\n",
              "      <th>4</th>\n",
              "    </tr>\n",
              "  </thead>\n",
              "  <tbody>\n",
              "    <tr>\n",
              "      <th>HITS</th>\n",
              "      <td>0</td>\n",
              "      <td>1.00000</td>\n",
              "      <td>1.00000</td>\n",
              "      <td>1.00000</td>\n",
              "    </tr>\n",
              "    <tr>\n",
              "      <th>DCG</th>\n",
              "      <td>0</td>\n",
              "      <td>0.63093</td>\n",
              "      <td>0.63093</td>\n",
              "      <td>0.63093</td>\n",
              "    </tr>\n",
              "  </tbody>\n",
              "</table>\n",
              "</div>"
            ],
            "text/plain": [
              "      1        2        3        4\n",
              "HITS  0  1.00000  1.00000  1.00000\n",
              "DCG   0  0.63093  0.63093  0.63093"
            ]
          },
          "execution_count": 17,
          "metadata": {},
          "output_type": "execute_result"
        }
      ],
      "source": [
        "import numpy as np\n",
        "# correct_answers - метрика для разных k\n",
        "correct_answers = pd.DataFrame([[0, 1, 1, 1], [0, 1 / (np.log2(3)), 1 / (np.log2(3)), 1 / (np.log2(3))]],\n",
        "                               index=['HITS', 'DCG'], columns=range(1,5))\n",
        "correct_answers"
      ]
    },
    {
      "cell_type": "markdown",
      "metadata": {
        "id": "tHZqgDTo6j0i"
      },
      "source": [
        "### Данные\n",
        "[arxiv link](https://drive.google.com/file/d/1QqT4D0EoqJTy7v9VrNCYD-m964XZFR7_/edit)\n",
        "\n",
        "`train.tsv` - выборка для обучения.<br> В каждой строке через табуляцию записаны: **<вопрос>, <похожий вопрос>**\n",
        "\n",
        "`validation.tsv` - тестовая выборка.<br> В каждой строке через табуляцию записаны: **<вопрос>, <похожий вопрос>, <отрицательный пример 1>, <отрицательный пример 2>, ...**"
      ]
    },
    {
      "cell_type": "code",
      "execution_count": null,
      "metadata": {
        "colab": {
          "base_uri": "https://localhost:8080/"
        },
        "id": "jKVK2lDGvrIe",
        "outputId": "51944c9b-d6e8-41af-bec4-bb35fba5d51b"
      },
      "outputs": [
        {
          "name": "stdout",
          "output_type": "stream",
          "text": [
            "Archive:  stackoverflow_similar_questions.zip\n",
            "   creating: data/\n",
            "  inflating: data/.DS_Store          \n",
            "   creating: __MACOSX/\n",
            "   creating: __MACOSX/data/\n",
            "  inflating: __MACOSX/data/._.DS_Store  \n",
            "  inflating: data/train.tsv          \n",
            "  inflating: data/validation.tsv     \n"
          ]
        }
      ],
      "source": [
        "!unzip stackoverflow_similar_questions.zip"
      ]
    },
    {
      "cell_type": "markdown",
      "metadata": {
        "id": "hil2UsUG6j22"
      },
      "source": [
        "Считайте данные."
      ]
    },
    {
      "cell_type": "code",
      "execution_count": null,
      "metadata": {
        "id": "B4EBho8s6j26"
      },
      "outputs": [],
      "source": [
        "def read_corpus(filename):\n",
        "    data = []\n",
        "    for line in open(filename, encoding='utf-8'):\n",
        "        data.append(line.strip().split(\"\\t\"))\n",
        "    return data"
      ]
    },
    {
      "cell_type": "markdown",
      "metadata": {
        "id": "kkTxY3Mk9_nG"
      },
      "source": [
        "Нам понадобиться только файл validation."
      ]
    },
    {
      "cell_type": "code",
      "execution_count": null,
      "metadata": {
        "id": "PTVB9Tnp6j29"
      },
      "outputs": [],
      "source": [
        "validation_data = read_corpus('./data/validation.tsv')"
      ]
    },
    {
      "cell_type": "markdown",
      "metadata": {
        "id": "bTHfL-9y6j3F"
      },
      "source": [
        "Кол-во строк"
      ]
    },
    {
      "cell_type": "code",
      "execution_count": null,
      "metadata": {
        "id": "z6ubXhIe6j3H",
        "scrolled": false,
        "outputId": "12948683-6b02-45de-f2f3-cbed85da566d"
      },
      "outputs": [
        {
          "data": {
            "text/plain": [
              "3760"
            ]
          },
          "execution_count": 20,
          "metadata": {},
          "output_type": "execute_result"
        }
      ],
      "source": [
        "len(validation_data)"
      ]
    },
    {
      "cell_type": "markdown",
      "metadata": {
        "id": "kaOQblBy6j3M"
      },
      "source": [
        "Размер нескольких первых строк"
      ]
    },
    {
      "cell_type": "code",
      "execution_count": null,
      "metadata": {
        "id": "yRx6e-Pe6j3M",
        "outputId": "535bd28c-5cdd-47d0-c8a5-744774f6542b"
      },
      "outputs": [
        {
          "name": "stdout",
          "output_type": "stream",
          "text": [
            "1 1001\n",
            "2 1001\n",
            "3 1001\n",
            "4 1001\n",
            "5 1001\n"
          ]
        }
      ],
      "source": [
        "for i in range(5):\n",
        "    print(i + 1, len(validation_data[i]))"
      ]
    },
    {
      "cell_type": "markdown",
      "metadata": {
        "id": "ySQQp0oQt1Ep"
      },
      "source": [
        "### Ранжирование без обучения"
      ]
    },
    {
      "cell_type": "markdown",
      "metadata": {
        "id": "iElEDhj-6j3R"
      },
      "source": [
        "Реализуйте функцию ранжирования кандидатов на основе косинусного расстояния. Функция должна по списку кандидатов вернуть отсортированный список пар (позиция в исходном списке кандидатов, кандидат). При этом позиция кандидата в полученном списке является его рейтингом (первый - лучший). Например, если исходный список кандидатов был [a, b, c], и самый похожий на исходный вопрос среди них - c, затем a, и в конце b, то функция должна вернуть список **[(2, c), (0, a), (1, b)]**."
      ]
    },
    {
      "cell_type": "code",
      "execution_count": null,
      "metadata": {
        "id": "K02JARKr6j3T"
      },
      "outputs": [],
      "source": [
        "from sklearn.metrics.pairwise import cosine_similarity\n",
        "from copy import deepcopy"
      ]
    },
    {
      "cell_type": "code",
      "execution_count": null,
      "metadata": {
        "id": "1yP8wJWj6j3X"
      },
      "outputs": [],
      "source": [
        "def rank_candidates(question, candidates, embeddings, tokenizer, dim=200):\n",
        "    \"\"\"\n",
        "        question: строка\n",
        "        candidates: массив строк(кандидатов) [a, b, c]\n",
        "        result: пары (начальная позиция, кандидат) [(2, c), (0, a), (1, b)]\n",
        "    \"\"\"\n",
        "    question_vector = question_to_vec(question, embeddings, tokenizer, dim).reshape(1,-1)\n",
        "    candidate_vectors = [question_to_vec(candidate, embeddings, tokenizer, dim) for candidate in candidates]\n",
        "\n",
        "    cosine_range = [cosine_similarity(question_vector, candidate_vec.reshape(1,-1)) for candidate_vec in candidate_vectors]\n",
        "    ranked_candidates = [(i, candidate, cosine_range[i]) for i, candidate in enumerate(candidates)]\n",
        "    ranked_candidates.sort(key=lambda x: x[2], reverse=True)\n",
        "\n",
        "    return [(position, candidate) for position, candidate, _ in ranked_candidates]\n"
      ]
    },
    {
      "cell_type": "markdown",
      "metadata": {
        "id": "TnBszTb76j3c"
      },
      "source": [
        "Протестируйте работу функции на примерах ниже. Пусть $N=2$, то есть два эксперимента"
      ]
    },
    {
      "cell_type": "code",
      "execution_count": null,
      "metadata": {
        "id": "xvQgtP176j3h"
      },
      "outputs": [],
      "source": [
        "questions = ['converting string to list', 'Sending array via Ajax fails']\n",
        "\n",
        "candidates = [['Convert Google results object (pure js) to Python object', # первый эксперимент\n",
        "               'C# create cookie from string and send it',\n",
        "               'How to use jQuery AJAX for an outside domain?'],\n",
        "\n",
        "              ['Getting all list items of an unordered list in PHP',      # второй эксперимент\n",
        "               'WPF- How to update the changes in list item of a list',\n",
        "               'select2 not displaying search results']]"
      ]
    },
    {
      "cell_type": "code",
      "execution_count": null,
      "metadata": {
        "id": "bPj1JGFi6j3m",
        "outputId": "cd598905-c0f7-4932-c0e9-928772710ea1"
      },
      "outputs": [
        {
          "name": "stdout",
          "output_type": "stream",
          "text": [
            "[(1, 'C# create cookie from string and send it'), (0, 'Convert Google results object (pure js) to Python object'), (2, 'How to use jQuery AJAX for an outside domain?')]\n",
            "\n",
            "[(1, 'WPF- How to update the changes in list item of a list'), (0, 'Getting all list items of an unordered list in PHP'), (2, 'select2 not displaying search results')]\n",
            "\n"
          ]
        }
      ],
      "source": [
        "for question, q_candidates in zip(questions, candidates):\n",
        "        ranks = rank_candidates(question, q_candidates, wv_embeddings, tokenizer)\n",
        "        print(ranks)\n",
        "        print()"
      ]
    },
    {
      "cell_type": "markdown",
      "metadata": {
        "id": "jm4cidj56j3q"
      },
      "source": [
        "Для первого экперимента вы можете полностью сравнить ваши ответы и правильные ответы. Но для второго эксперимента два ответа на кандидаты будут <b>скрыты</b>(*)"
      ]
    },
    {
      "cell_type": "code",
      "execution_count": null,
      "metadata": {
        "id": "0LeKMIsn6j3s"
      },
      "outputs": [],
      "source": [
        "# должно вывести\n",
        "results = [[(1, 'C# create cookie from string and send it'),\n",
        "            (0, 'Convert Google results object (pure js) to Python object'),\n",
        "            (2, 'How to use jQuery AJAX for an outside domain?')],\n",
        "           [(*, 'Getting all list items of an unordered list in PHP'), #скрыт\n",
        "            (*, 'select2 not displaying search results'), #скрыт\n",
        "            (*, 'WPF- How to update the changes in list item of a list')]] #скрыт"
      ]
    },
    {
      "cell_type": "markdown",
      "metadata": {
        "id": "t1ttnIBe6j3x"
      },
      "source": [
        "Последовательность начальных индексов вы должны получить `для эксперимента 1`  1, 0, 2."
      ]
    },
    {
      "cell_type": "markdown",
      "metadata": {
        "id": "5WQgYDWd6j3y"
      },
      "source": [
        "#### Вопрос 5:\n",
        "* Какую последовательность начальных индексов вы получили `для эксперимента 2`(перечисление без запятой и пробелов, например, `102` для первого эксперимента?"
      ]
    },
    {
      "cell_type": "markdown",
      "metadata": {
        "id": "fPllOY-Y6j30"
      },
      "source": [
        "Теперь мы можем оценить качество нашего метода. Запустите следующие два блока кода для получения результата. Обратите внимание, что вычисление расстояния между векторами занимает некоторое время (примерно 10 минут). Можете взять для validation 1000 примеров."
      ]
    },
    {
      "cell_type": "code",
      "execution_count": null,
      "metadata": {
        "id": "Z3q9sxddz-yU"
      },
      "outputs": [],
      "source": [
        "from tqdm.notebook import tqdm"
      ]
    },
    {
      "cell_type": "code",
      "execution_count": null,
      "metadata": {
        "id": "nu7K4mis6j32",
        "outputId": "226c03a6-82dd-4df9-f09e-c8cbdadcfec2",
        "colab": {
          "referenced_widgets": [
            "20468d6dde6e43ab997058e5e4cb0a4f"
          ]
        }
      },
      "outputs": [
        {
          "data": {
            "application/vnd.jupyter.widget-view+json": {
              "model_id": "20468d6dde6e43ab997058e5e4cb0a4f",
              "version_major": 2,
              "version_minor": 0
            },
            "text/plain": [
              "  0%|          | 0/3760 [00:00<?, ?it/s]"
            ]
          },
          "metadata": {},
          "output_type": "display_data"
        }
      ],
      "source": [
        "wv_ranking = []\n",
        "max_validation_examples = 1000\n",
        "for i, line in enumerate(tqdm(validation_data)):\n",
        "    if i == max_validation_examples:\n",
        "        break\n",
        "    q, *ex = line\n",
        "    ranks = rank_candidates(q, ex, wv_embeddings, tokenizer)\n",
        "    wv_ranking.append([r[0] for r in ranks].index(0) + 1)"
      ]
    },
    {
      "cell_type": "code",
      "execution_count": null,
      "metadata": {
        "id": "gDtS520v6j35",
        "scrolled": true,
        "outputId": "51cdb271-9262-4da3-d2b0-1f35df136c1a",
        "colab": {
          "referenced_widgets": [
            "1e817bbfe572442fab9d934cea548270"
          ]
        }
      },
      "outputs": [
        {
          "data": {
            "application/vnd.jupyter.widget-view+json": {
              "model_id": "1e817bbfe572442fab9d934cea548270",
              "version_major": 2,
              "version_minor": 0
            },
            "text/plain": [
              "  0%|          | 0/6 [00:00<?, ?it/s]"
            ]
          },
          "metadata": {},
          "output_type": "display_data"
        },
        {
          "name": "stdout",
          "output_type": "stream",
          "text": [
            "DCG@   1: 0.276 | Hits@   1: 0.276\n",
            "DCG@   5: 0.332 | Hits@   5: 0.386\n",
            "DCG@  10: 0.349 | Hits@  10: 0.438\n",
            "DCG@ 100: 0.395 | Hits@ 100: 0.671\n",
            "DCG@ 500: 0.421 | Hits@ 500: 0.875\n",
            "DCG@1000: 0.434 | Hits@1000: 1.000\n"
          ]
        }
      ],
      "source": [
        "for k in tqdm([1, 5, 10, 100, 500, 1000]):\n",
        "    print(\"DCG@%4d: %.3f | Hits@%4d: %.3f\" % (k, dcg_score(wv_ranking, k), k, hits_count(wv_ranking, k)))"
      ]
    },
    {
      "cell_type": "code",
      "execution_count": null,
      "metadata": {
        "id": "GebhCnU0evar"
      },
      "outputs": [],
      "source": []
    },
    {
      "cell_type": "markdown",
      "metadata": {
        "id": "LL6_Rjg3InL8"
      },
      "source": [
        "### Эмбеддинги, обученные на корпусе похожих вопросов"
      ]
    },
    {
      "cell_type": "code",
      "execution_count": null,
      "metadata": {
        "id": "iNvbpR5gJIPz"
      },
      "outputs": [],
      "source": [
        "train_data = read_corpus('./data/train.tsv')"
      ]
    },
    {
      "cell_type": "markdown",
      "metadata": {
        "id": "Nr281ZyEJfjT"
      },
      "source": [
        "Улучшите качество модели.<br>Склеим вопросы в пары и обучим на них модель Word2Vec из gensim. Выберите размер window. Объясните свой выбор."
      ]
    },
    {
      "cell_type": "code",
      "execution_count": null,
      "metadata": {
        "id": "f6Y46SSQMTL0"
      },
      "outputs": [],
      "source": [
        "words = [question for question in train_data]"
      ]
    },
    {
      "cell_type": "code",
      "execution_count": null,
      "metadata": {
        "id": "QuJzAM0cI-UH"
      },
      "outputs": [],
      "source": [
        "from gensim.models import Word2Vec\n",
        "embeddings_trained = Word2Vec(words, # data for model to train on\n",
        "                 vector_size=200,                 # embedding vector size\n",
        "                 min_count=5,             # consider words that occured at least 5 times\n",
        "                 window=5).wv"
      ]
    },
    {
      "cell_type": "code",
      "execution_count": null,
      "metadata": {
        "id": "OQonbm4nMenD",
        "outputId": "edfe8a1c-824f-4d8a-bc34-cb566ac00e91",
        "colab": {
          "referenced_widgets": [
            "b07a0a1d78184d15b944c66c54223caa"
          ]
        }
      },
      "outputs": [
        {
          "data": {
            "application/vnd.jupyter.widget-view+json": {
              "model_id": "b07a0a1d78184d15b944c66c54223caa",
              "version_major": 2,
              "version_minor": 0
            },
            "text/plain": [
              "  0%|          | 0/3760 [00:00<?, ?it/s]"
            ]
          },
          "metadata": {},
          "output_type": "display_data"
        }
      ],
      "source": [
        "wv_ranking = []\n",
        "max_validation_examples = 1000\n",
        "for i, line in enumerate(tqdm(validation_data)):\n",
        "    if i == max_validation_examples:\n",
        "        break\n",
        "    q, *ex = line\n",
        "    ranks = rank_candidates(q, ex, embeddings_trained, tokenizer)\n",
        "    wv_ranking.append([r[0] for r in ranks].index(0) + 1)"
      ]
    },
    {
      "cell_type": "code",
      "execution_count": null,
      "metadata": {
        "id": "3kahBUPGMgGR",
        "outputId": "5effab32-3e04-4714-b2ef-0fe11a5245db",
        "colab": {
          "referenced_widgets": [
            "90ad66241be549dda9d8129952e72f18"
          ]
        }
      },
      "outputs": [
        {
          "data": {
            "application/vnd.jupyter.widget-view+json": {
              "model_id": "90ad66241be549dda9d8129952e72f18",
              "version_major": 2,
              "version_minor": 0
            },
            "text/plain": [
              "  0%|          | 0/6 [00:00<?, ?it/s]"
            ]
          },
          "metadata": {},
          "output_type": "display_data"
        },
        {
          "name": "stdout",
          "output_type": "stream",
          "text": [
            "DCG@   1: 1.000 | Hits@   1: 1.000\n",
            "DCG@   5: 1.000 | Hits@   5: 1.000\n",
            "DCG@  10: 1.000 | Hits@  10: 1.000\n",
            "DCG@ 100: 1.000 | Hits@ 100: 1.000\n",
            "DCG@ 500: 1.000 | Hits@ 500: 1.000\n",
            "DCG@1000: 1.000 | Hits@1000: 1.000\n"
          ]
        }
      ],
      "source": [
        "for k in tqdm([1, 5, 10, 100, 500, 1000]):\n",
        "    print(\"DCG@%4d: %.3f | Hits@%4d: %.3f\" % (k, dcg_score(wv_ranking, k), k, hits_count(wv_ranking, k)))"
      ]
    },
    {
      "cell_type": "markdown",
      "metadata": {
        "id": "tY8PxB0j-ThG"
      },
      "source": [
        "### Замечание:\n",
        "Решить эту задачу с помощью обучения полноценной нейронной сети будет вам предложено, как часть задания в одной из домашних работ по теме \"Диалоговые системы\"."
      ]
    },
    {
      "cell_type": "markdown",
      "metadata": {
        "id": "vymVj8IxO2PO"
      },
      "source": [
        "Напишите свой вывод о полученных результатах.\n",
        "* Какой принцип токенизации даёт качество лучше и почему?\n",
        "* Помогает ли нормализация слов?\n",
        "* Какие эмбеддинги лучше справляются с задачей и почему?\n",
        "* Почему получилось плохое качество решения задачи?\n",
        "* Предложите свой подход к решению задачи.\n",
        "\n",
        "## Вывод:\n"
      ]
    },
    {
      "cell_type": "markdown",
      "metadata": {
        "id": "emODHztAQUQz"
      },
      "source": []
    }
  ],
  "metadata": {
    "colab": {
      "collapsed_sections": [
        "BIWqBuEa6j0b",
        "uS9FwWNd5a3S",
        "MQk_rolFwT_h",
        "ai48-5vv6j1d",
        "Y60z4t6W6j16",
        "0sUSxk866j1_",
        "J5xWOORI6j2F",
        "tHZqgDTo6j0i",
        "ySQQp0oQt1Ep",
        "LL6_Rjg3InL8"
      ],
      "provenance": []
    },
    "kernelspec": {
      "display_name": "Python 3 (ipykernel)",
      "language": "python",
      "name": "python3"
    },
    "language_info": {
      "codemirror_mode": {
        "name": "ipython",
        "version": 3
      },
      "file_extension": ".py",
      "mimetype": "text/x-python",
      "name": "python",
      "nbconvert_exporter": "python",
      "pygments_lexer": "ipython3",
      "version": "3.10.12"
    }
  },
  "nbformat": 4,
  "nbformat_minor": 0
}